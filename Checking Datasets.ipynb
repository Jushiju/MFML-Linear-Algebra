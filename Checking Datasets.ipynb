{
 "cells": [
  {
   "cell_type": "code",
   "execution_count": 1,
   "id": "32e33d46-1deb-459d-8fa4-c54f9b839e67",
   "metadata": {},
   "outputs": [],
   "source": [
    "import pandas as pd"
   ]
  },
  {
   "cell_type": "code",
   "execution_count": 3,
   "id": "2cfb274c-06da-471b-8f44-ff5cafa3a9de",
   "metadata": {},
   "outputs": [],
   "source": [
    "demographics_df = pd.read_csv('Downloads/cleaned_demographic_data.csv')"
   ]
  },
  {
   "cell_type": "code",
   "execution_count": 5,
   "id": "cbbd7ca2-eff0-49fb-a797-20e916e24cd8",
   "metadata": {},
   "outputs": [
    {
     "name": "stdout",
     "output_type": "stream",
     "text": [
      "Demographics dataset: 2493 rows and 6 columns\n"
     ]
    }
   ],
   "source": [
    "demographics_shape = demographics_df.shape\n",
    "print(f'Demographics dataset: {demographics_shape[0]} rows and {demographics_shape[1]} columns')\n"
   ]
  },
  {
   "cell_type": "code",
   "execution_count": 7,
   "id": "9ae7dd07-1ed1-48de-94d5-59e559e3bf9a",
   "metadata": {},
   "outputs": [],
   "source": [
    "transactions_df = pd.read_csv('Downloads/customer_transaction_cleaned_data.csv')\n"
   ]
  },
  {
   "cell_type": "code",
   "execution_count": 9,
   "id": "0055be6f-3b94-445a-befe-903ee0f2a792",
   "metadata": {},
   "outputs": [],
   "source": [
    "social_interactions_df = pd.read_csv('Downloads/cleaned_Social_Interaction_data.csv')\n"
   ]
  },
  {
   "cell_type": "code",
   "execution_count": 11,
   "id": "90024c23-398d-441a-b246-977e9d0e9cfe",
   "metadata": {},
   "outputs": [
    {
     "name": "stdout",
     "output_type": "stream",
     "text": [
      "Demographics dataset: 2493 rows and 6 columns\n",
      "Transactions dataset: 2476 rows and 6 columns\n",
      "Social Interactions dataset: 2447 rows and 6 columns\n"
     ]
    }
   ],
   "source": [
    "\n",
    "demographics_shape = demographics_df.shape\n",
    "print(f'Demographics dataset: {demographics_shape[0]} rows and {demographics_shape[1]} columns')\n",
    "\n",
    "transactions_shape = transactions_df.shape\n",
    "print(f'Transactions dataset: {transactions_shape[0]} rows and {transactions_shape[1]} columns')\n",
    "\n",
    "social_interactions_shape = social_interactions_df.shape\n",
    "print(f'Social Interactions dataset: {social_interactions_shape[0]} rows and {social_interactions_shape[1]} columns')"
   ]
  },
  {
   "cell_type": "code",
   "execution_count": 13,
   "id": "a77b05c8-680a-4928-b19c-35fc45b0545c",
   "metadata": {
    "scrolled": true
   },
   "outputs": [
    {
     "name": "stdout",
     "output_type": "stream",
     "text": [
      "\n",
      "Demographics dataset data types:\n",
      "CustomerID     object\n",
      "Age            object\n",
      "Gender         object\n",
      "Location       object\n",
      "IncomeLevel    object\n",
      "SignupDate     object\n",
      "dtype: object\n",
      "\n",
      "Transactions dataset data types:\n",
      "CustomerID         object\n",
      "TransactionID      object\n",
      "TransactionDate    object\n",
      "Amount             object\n",
      "ProductCategory    object\n",
      "PaymentMethod      object\n",
      "dtype: object\n",
      "\n",
      "Social Interactions dataset data types:\n",
      "CustomerID         object\n",
      "InteractionID      object\n",
      "InteractionDate    object\n",
      "Platform           object\n",
      "InteractionType    object\n",
      "Sentiment          object\n",
      "dtype: object\n"
     ]
    }
   ],
   "source": [
    "demographics_types = demographics_df.dtypes\n",
    "print(\"\\nDemographics dataset data types:\")\n",
    "print(demographics_types)\n",
    "\n",
    "transactions_types = transactions_df.dtypes\n",
    "print(\"\\nTransactions dataset data types:\")\n",
    "print(transactions_types)\n",
    "\n",
    "social_interactions_types = social_interactions_df.dtypes\n",
    "print(\"\\nSocial Interactions dataset data types:\")\n",
    "print(social_interactions_types)"
   ]
  },
  {
   "cell_type": "code",
   "execution_count": 15,
   "id": "6ef3488a-ab18-4751-9eaf-31812dcbc0c8",
   "metadata": {},
   "outputs": [
    {
     "name": "stdout",
     "output_type": "stream",
     "text": [
      "\n",
      "Preview of Demographics dataset:\n",
      "                             CustomerID   Age  Gender    Location IncomeLevel  \\\n",
      "0  9207fa75-5758-48d1-94ad-19c041e0520f  51.0  Female  Jensenberg         Low   \n",
      "1  50118139-7264-428f-81cc-a25fddc5d6dd  44.0    Male   Port Carl      Medium   \n",
      "2  7d1f2bbc-8d16-4fbc-9b37-ece3324e8ed4  50.0  Female   Jessebury        High   \n",
      "3  2de49c7c-32ae-4ba8-b058-622a090d7094  53.0  Female  Emilyville         Low   \n",
      "4  c96a5ee9-f1a6-416a-adc6-1c8b128c7399   150    Male  Hansontown        High   \n",
      "\n",
      "   SignupDate  \n",
      "0  2022-11-17  \n",
      "1  2024-06-10  \n",
      "2  2023-08-24  \n",
      "3  2022-02-13  \n",
      "4  2020-09-17  \n",
      "\n",
      "Preview of Transactions dataset:\n",
      "                             CustomerID                         TransactionID  \\\n",
      "0  60567026-f719-4cd6-849e-137e86d8938f  5ff75116-0a50-4d04-80fb-31e5ccbb0769   \n",
      "1  4090ba85-b111-4f75-a792-c777965f5255  2c39b9fe-ff57-4d39-9321-9f5cdf187aa1   \n",
      "2  9223891b-73ff-4d5c-b8ae-13ece82ee28b  f79588dd-3db9-4ffa-97f8-7de0e64259f1   \n",
      "3  9243eebc-938f-480c-8564-16d503d250de  401c0fc9-60df-4455-ad78-67c132f9897d   \n",
      "4  6e3e8eb8-bc0f-4ffe-9f74-5d5efec9502f  2034aebc-8280-4254-a667-92bcd1c2be4f   \n",
      "\n",
      "  TransactionDate  Amount  ProductCategory  PaymentMethod  \n",
      "0      2024-05-15  117.64         Clothing         PayPal  \n",
      "1      2023-04-26  466.14  Health & Beauty  Bank Transfer  \n",
      "2      2022-09-23  563.99         Clothing     Debit Card  \n",
      "3      2024-04-15  254.44       Automotive         PayPal  \n",
      "4      2024-06-03  590.52    Home & Garden  Bank Transfer  \n",
      "\n",
      "Preview of Social Interactions dataset:\n",
      "                             CustomerID                         InteractionID  \\\n",
      "0  08a911a3-65e6-4f5d-a6a1-ae7ddcbe28a2  a83fa04c-f109-4f24-8ce1-2078154f6a1c   \n",
      "1  efdfdfc9-5dbb-4478-911a-101a390a0285  28a69c4b-a2e4-4c74-a130-1132d7733fdf   \n",
      "2  3e44871b-f56c-4576-b1ca-d1dc999e2166  0c409883-8396-48e4-83fb-887329848696   \n",
      "3  aa5eea4b-c948-41f4-9285-229a470002aa  4034dadf-6541-40d6-a7f0-16b20a009c04   \n",
      "4  481bcc62-9dcb-4766-bbdd-79f5554d73f8  785b7854-4548-4251-83f2-a25da78bfe40   \n",
      "\n",
      "  InteractionDate   Platform InteractionType Sentiment  \n",
      "0      2024-05-24  Instagram         Comment   Neutral  \n",
      "1      2023-11-01  Instagram            Like   Neutral  \n",
      "2      2023-12-18  Instagram         Comment  Positive  \n",
      "3      2023-11-15  Instagram           Share  Positive  \n",
      "4      2024-05-28    Twitter            Like  Positive  \n",
      "\n",
      "Summary statistics for Demographics dataset:\n",
      "                                  CustomerID   Age  Gender      Location  \\\n",
      "count                                   2493  2493    2493          2493   \n",
      "unique                                  2471    58       2          2262   \n",
      "top     1e9e7dcb-e612-46d3-bae6-0c2f47fa0220  62.0  Female  Port Michael   \n",
      "freq                                       2    64    1247             5   \n",
      "\n",
      "       IncomeLevel  SignupDate  \n",
      "count         2493        2493  \n",
      "unique           3        1413  \n",
      "top           High  2020-11-09  \n",
      "freq           856           7  \n",
      "\n",
      "Summary statistics for Transactions dataset:\n",
      "                                  CustomerID  \\\n",
      "count                                   2476   \n",
      "unique                                  1664   \n",
      "top     577fcc56-95dc-443a-9289-d12614f5cea3   \n",
      "freq                                       6   \n",
      "\n",
      "                               TransactionID TransactionDate Amount  \\\n",
      "count                                   2476            2476   2476   \n",
      "unique                                  2464             775   2358   \n",
      "top     27fb25aa-f148-423f-967c-4d1764e26b29      2022-12-14   -100   \n",
      "freq                                       2              10     37   \n",
      "\n",
      "       ProductCategory PaymentMethod  \n",
      "count             2476          2476  \n",
      "unique               5             4  \n",
      "top           Clothing    Debit Card  \n",
      "freq               517           638  \n",
      "\n",
      "Summary statistics for Social Interactions dataset:\n",
      "                                  CustomerID  \\\n",
      "count                                   2447   \n",
      "unique                                  1651   \n",
      "top     fc9f91cc-00f1-4ffa-8016-878c069f3a1b   \n",
      "freq                                       5   \n",
      "\n",
      "                               InteractionID InteractionDate   Platform  \\\n",
      "count                                   2447            2447       2447   \n",
      "unique                                  2430             436          3   \n",
      "top     1d1c2f54-2b21-4004-a2ca-2983b01b0242      2024-01-30  Instagram   \n",
      "freq                                       2              15        836   \n",
      "\n",
      "       InteractionType Sentiment  \n",
      "count             2447      2447  \n",
      "unique               3         5  \n",
      "top              Share  Positive  \n",
      "freq               821       804  \n"
     ]
    }
   ],
   "source": [
    "print(\"\\nPreview of Demographics dataset:\")\n",
    "print(demographics_df.head())\n",
    "\n",
    "print(\"\\nPreview of Transactions dataset:\")\n",
    "print(transactions_df.head())\n",
    "\n",
    "print(\"\\nPreview of Social Interactions dataset:\")\n",
    "print(social_interactions_df.head())\n",
    "\n",
    "# Get summary statistics\n",
    "print(\"\\nSummary statistics for Demographics dataset:\")\n",
    "print(demographics_df.describe(include='all'))\n",
    "\n",
    "print(\"\\nSummary statistics for Transactions dataset:\")\n",
    "print(transactions_df.describe(include='all'))\n",
    "\n",
    "print(\"\\nSummary statistics for Social Interactions dataset:\")\n",
    "print(social_interactions_df.describe(include='all'))"
   ]
  },
  {
   "cell_type": "code",
   "execution_count": 17,
   "id": "f8fca542-8d00-474e-b2ca-c080682da8cb",
   "metadata": {},
   "outputs": [
    {
     "name": "stdout",
     "output_type": "stream",
     "text": [
      "\n",
      "Missing values in Demographics dataset:\n",
      "CustomerID     0\n",
      "Age            0\n",
      "Gender         0\n",
      "Location       0\n",
      "IncomeLevel    0\n",
      "SignupDate     0\n",
      "dtype: int64\n",
      "\n",
      "Missing values in Transactions dataset:\n",
      "CustomerID         0\n",
      "TransactionID      0\n",
      "TransactionDate    0\n",
      "Amount             0\n",
      "ProductCategory    0\n",
      "PaymentMethod      0\n",
      "dtype: int64\n",
      "\n",
      "Missing values in Social Interactions dataset:\n",
      "CustomerID         0\n",
      "InteractionID      0\n",
      "InteractionDate    0\n",
      "Platform           0\n",
      "InteractionType    0\n",
      "Sentiment          0\n",
      "dtype: int64\n"
     ]
    }
   ],
   "source": [
    "print(\"\\nMissing values in Demographics dataset:\")\n",
    "print(demographics_df.isnull().sum())\n",
    "\n",
    "print(\"\\nMissing values in Transactions dataset:\")\n",
    "print(transactions_df.isnull().sum())\n",
    "\n",
    "print(\"\\nMissing values in Social Interactions dataset:\")\n",
    "print(social_interactions_df.isnull().sum())"
   ]
  },
  {
   "cell_type": "code",
   "execution_count": 20,
   "id": "034b1241-e1a7-4b80-a708-e4d51fd73779",
   "metadata": {},
   "outputs": [],
   "source": [
    "import pandas as pd"
   ]
  },
  {
   "cell_type": "code",
   "execution_count": 22,
   "id": "28b81902-2208-43cd-8a20-8f09fdea8524",
   "metadata": {},
   "outputs": [],
   "source": [
    "demographics_df = pd.read_csv('Downloads/cleaned_demographic_data.csv')"
   ]
  },
  {
   "cell_type": "code",
   "execution_count": 24,
   "id": "6ec56499-02de-4cde-8442-65a5f0c4e16c",
   "metadata": {},
   "outputs": [],
   "source": [
    "transactions_df = pd.read_csv('Downloads/customer_transaction_cleaned_data.csv')"
   ]
  },
  {
   "cell_type": "code",
   "execution_count": 26,
   "id": "5480b73b-db69-42a2-9866-717484b8dc33",
   "metadata": {},
   "outputs": [],
   "source": [
    "social_interactions_df = pd.read_csv('Downloads/cleaned_Social_Interaction_data.csv')\n"
   ]
  },
  {
   "cell_type": "code",
   "execution_count": 28,
   "id": "4306f3d5-1a2a-4ae0-b8ca-adb502275a24",
   "metadata": {},
   "outputs": [],
   "source": [
    "demographics_df['Age'] = pd.to_numeric(demographics_df['Age'], errors='coerce')\n",
    "transactions_df['Amount'] = pd.to_numeric(transactions_df['Amount'], errors='coerce')"
   ]
  },
  {
   "cell_type": "code",
   "execution_count": 34,
   "id": "d72cd23f-96f1-43d8-b487-e1e5ddf5eb8e",
   "metadata": {},
   "outputs": [
    {
     "name": "stdout",
     "output_type": "stream",
     "text": [
      "\n",
      "Basic Statistics for Age in Demographics Dataset:\n",
      " count    2464.000000\n",
      "mean       45.497565\n",
      "std        19.469121\n",
      "min        -1.000000\n",
      "25%        31.000000\n",
      "50%        45.000000\n",
      "75%        59.000000\n",
      "max       150.000000\n",
      "Name: Age, dtype: float64\n"
     ]
    }
   ],
   "source": [
    "age_stats = demographics_df['Age'].describe()\n",
    "print(\"\\nBasic Statistics for Age in Demographics Dataset:\\n\", age_stats)"
   ]
  },
  {
   "cell_type": "code",
   "execution_count": 36,
   "id": "9b8b61e4-e18a-43ad-addb-2cad6e470618",
   "metadata": {},
   "outputs": [
    {
     "name": "stdout",
     "output_type": "stream",
     "text": [
      "\n",
      "Basic Statistics for Amount in Transactions Dataset:\n",
      " count    2448.000000\n",
      "mean      491.130163\n",
      "std       299.836382\n",
      "min      -100.000000\n",
      "25%       231.727500\n",
      "50%       499.130000\n",
      "75%       747.190000\n",
      "max       999.860000\n",
      "Name: Amount, dtype: float64\n"
     ]
    }
   ],
   "source": [
    "amount_stats = transactions_df['Amount'].describe()\n",
    "print(\"\\nBasic Statistics for Amount in Transactions Dataset:\\n\", amount_stats)"
   ]
  },
  {
   "cell_type": "code",
   "execution_count": 38,
   "id": "af3fcad1-6338-482b-8a89-91e28d9520ef",
   "metadata": {},
   "outputs": [],
   "source": [
    "gender_counts = demographics_df['Gender'].value_counts()\n",
    "income_level_counts = demographics_df['IncomeLevel'].value_counts()\n",
    "product_category_counts = transactions_df['ProductCategory'].value_counts()\n",
    "payment_method_counts = transactions_df['PaymentMethod'].value_counts()\n",
    "platform_counts = social_interactions_df['Platform'].value_counts()\n",
    "sentiment_counts = social_interactions_df['Sentiment'].value_counts()\n"
   ]
  },
  {
   "cell_type": "code",
   "execution_count": 40,
   "id": "06455bad-b658-424e-ae2f-280be7c4f537",
   "metadata": {},
   "outputs": [
    {
     "name": "stdout",
     "output_type": "stream",
     "text": [
      "\n",
      "Gender Counts:\n",
      " Gender\n",
      "Female    1247\n",
      "Male      1246\n",
      "Name: count, dtype: int64\n",
      "\n",
      "Income Level Counts:\n",
      " IncomeLevel\n",
      "High      856\n",
      "Low       838\n",
      "Medium    799\n",
      "Name: count, dtype: int64\n",
      "\n",
      "Product Category Counts:\n",
      " ProductCategory\n",
      "Clothing           517\n",
      "Electronics        511\n",
      "Automotive         491\n",
      "Home & Garden      486\n",
      "Health & Beauty    471\n",
      "Name: count, dtype: int64\n",
      "\n",
      "Payment Method Counts:\n",
      " PaymentMethod\n",
      "Debit Card       638\n",
      "Credit Card      621\n",
      "Bank Transfer    611\n",
      "PayPal           606\n",
      "Name: count, dtype: int64\n",
      "\n",
      "Platform Counts:\n",
      " Platform\n",
      "Instagram    836\n",
      "Twitter      814\n",
      "Facebook     797\n",
      "Name: count, dtype: int64\n",
      "\n",
      "Sentiment Counts:\n",
      " Sentiment\n",
      "Positive         804\n",
      "Neutral          797\n",
      "Negative         789\n",
      "Very Positive     29\n",
      "Very Negative     28\n",
      "Name: count, dtype: int64\n"
     ]
    }
   ],
   "source": [
    "print(\"\\nGender Counts:\\n\", gender_counts)\n",
    "print(\"\\nIncome Level Counts:\\n\", income_level_counts)\n",
    "print(\"\\nProduct Category Counts:\\n\", product_category_counts)\n",
    "print(\"\\nPayment Method Counts:\\n\", payment_method_counts)\n",
    "print(\"\\nPlatform Counts:\\n\", platform_counts)\n",
    "print(\"\\nSentiment Counts:\\n\", sentiment_counts)"
   ]
  },
  {
   "cell_type": "code",
   "execution_count": 44,
   "id": "e525bd19-169a-4f84-b402-a34d73cc95ba",
   "metadata": {},
   "outputs": [],
   "source": [
    "def identify_outliers(data):\n",
    "    Q1 = data.quantile(0.25)\n",
    "    Q3 = data.quantile(0.75)\n",
    "    IQR = Q3 - Q1\n",
    "    lower_bound = Q1 - 1.5 * IQR\n",
    "    upper_bound = Q3 + 1.5 * IQR\n",
    "    return data[(data < lower_bound) | (data > upper_bound)]"
   ]
  },
  {
   "cell_type": "code",
   "execution_count": null,
   "id": "707c25ee-3362-483b-b3a1-2f763b4ec03c",
   "metadata": {},
   "outputs": [],
   "source": []
  }
 ],
 "metadata": {
  "kernelspec": {
   "display_name": "Python 3 (ipykernel)",
   "language": "python",
   "name": "python3"
  },
  "language_info": {
   "codemirror_mode": {
    "name": "ipython",
    "version": 3
   },
   "file_extension": ".py",
   "mimetype": "text/x-python",
   "name": "python",
   "nbconvert_exporter": "python",
   "pygments_lexer": "ipython3",
   "version": "3.12.4"
  }
 },
 "nbformat": 4,
 "nbformat_minor": 5
}
