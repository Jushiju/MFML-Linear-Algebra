{
 "cells": [
  {
   "cell_type": "code",
   "execution_count": 1,
   "id": "bec65ee1-e621-4fa4-8077-c5bf9a56a30a",
   "metadata": {},
   "outputs": [],
   "source": [
    "import pandas as pd"
   ]
  },
  {
   "cell_type": "code",
   "execution_count": 19,
   "id": "b8d0ecb8-7054-4189-ab8e-2ba2229f0978",
   "metadata": {},
   "outputs": [],
   "source": [
    "df = pd.read_csv ('Downloads/customer_demographics_contaminated.csv')"
   ]
  },
  {
   "cell_type": "code",
   "execution_count": 21,
   "id": "1c14df14-c729-438a-b657-4637c1ac2705",
   "metadata": {},
   "outputs": [
    {
     "data": {
      "text/html": [
       "<div>\n",
       "<style scoped>\n",
       "    .dataframe tbody tr th:only-of-type {\n",
       "        vertical-align: middle;\n",
       "    }\n",
       "\n",
       "    .dataframe tbody tr th {\n",
       "        vertical-align: top;\n",
       "    }\n",
       "\n",
       "    .dataframe thead th {\n",
       "        text-align: right;\n",
       "    }\n",
       "</style>\n",
       "<table border=\"1\" class=\"dataframe\">\n",
       "  <thead>\n",
       "    <tr style=\"text-align: right;\">\n",
       "      <th></th>\n",
       "      <th>CustomerID</th>\n",
       "      <th>Age</th>\n",
       "      <th>Gender</th>\n",
       "      <th>Location</th>\n",
       "      <th>IncomeLevel</th>\n",
       "      <th>SignupDate</th>\n",
       "    </tr>\n",
       "  </thead>\n",
       "  <tbody>\n",
       "    <tr>\n",
       "      <th>0</th>\n",
       "      <td>9207fa75-5758-48d1-94ad-19c041e0520f</td>\n",
       "      <td>51.0</td>\n",
       "      <td>Female</td>\n",
       "      <td>Jensenberg</td>\n",
       "      <td>Low</td>\n",
       "      <td>2022-11-17</td>\n",
       "    </tr>\n",
       "    <tr>\n",
       "      <th>1</th>\n",
       "      <td>5fb09cd8-a473-46f7-80bd-6e49cf509078</td>\n",
       "      <td>NaN</td>\n",
       "      <td>Female</td>\n",
       "      <td>Castilloport</td>\n",
       "      <td>High</td>\n",
       "      <td>2020-07-21</td>\n",
       "    </tr>\n",
       "    <tr>\n",
       "      <th>2</th>\n",
       "      <td>c139496e-cc89-498a-bd90-1fb4627b6cff</td>\n",
       "      <td>37.0</td>\n",
       "      <td>Male</td>\n",
       "      <td>Lake Jennifertown</td>\n",
       "      <td>NaN</td>\n",
       "      <td>2021-01-01</td>\n",
       "    </tr>\n",
       "    <tr>\n",
       "      <th>3</th>\n",
       "      <td>50118139-7264-428f-81cc-a25fddc5d6dd</td>\n",
       "      <td>44.0</td>\n",
       "      <td>Male</td>\n",
       "      <td>Port Carl</td>\n",
       "      <td>Medium</td>\n",
       "      <td>2024-06-10</td>\n",
       "    </tr>\n",
       "    <tr>\n",
       "      <th>4</th>\n",
       "      <td>7d1f2bbc-8d16-4fbc-9b37-ece3324e8ed4</td>\n",
       "      <td>50.0</td>\n",
       "      <td>Female</td>\n",
       "      <td>Jessebury</td>\n",
       "      <td>High</td>\n",
       "      <td>2023-08-24</td>\n",
       "    </tr>\n",
       "    <tr>\n",
       "      <th>...</th>\n",
       "      <td>...</td>\n",
       "      <td>...</td>\n",
       "      <td>...</td>\n",
       "      <td>...</td>\n",
       "      <td>...</td>\n",
       "      <td>...</td>\n",
       "    </tr>\n",
       "    <tr>\n",
       "      <th>3195</th>\n",
       "      <td>bbf7c36f-3745-4d3a-9e33-f927c2755f65</td>\n",
       "      <td>45.0</td>\n",
       "      <td>Female</td>\n",
       "      <td>Roberttown</td>\n",
       "      <td>Medium</td>\n",
       "      <td>2023-02-17</td>\n",
       "    </tr>\n",
       "    <tr>\n",
       "      <th>3196</th>\n",
       "      <td>0ef84cc6-0b4c-4c56-bdaa-d6b725ccc08e</td>\n",
       "      <td>40.0</td>\n",
       "      <td>Male</td>\n",
       "      <td>Lisaside</td>\n",
       "      <td>Medium</td>\n",
       "      <td>2022-07-23</td>\n",
       "    </tr>\n",
       "    <tr>\n",
       "      <th>3197</th>\n",
       "      <td>0ede97d1-bb46-452d-893e-b63f37da4fa8</td>\n",
       "      <td>NaN</td>\n",
       "      <td>Female</td>\n",
       "      <td>North Christinaport</td>\n",
       "      <td>High</td>\n",
       "      <td>2021-10-16</td>\n",
       "    </tr>\n",
       "    <tr>\n",
       "      <th>3198</th>\n",
       "      <td>43ec68f5-4305-4b40-8ced-a187d00bb3f5</td>\n",
       "      <td>26.0</td>\n",
       "      <td>Female</td>\n",
       "      <td>Carrilloport</td>\n",
       "      <td>Low</td>\n",
       "      <td>2022-09-26</td>\n",
       "    </tr>\n",
       "    <tr>\n",
       "      <th>3199</th>\n",
       "      <td>077936e6-6556-434f-9494-e5d671b6e71c</td>\n",
       "      <td>65.0</td>\n",
       "      <td>Female</td>\n",
       "      <td>Bryantside</td>\n",
       "      <td>High</td>\n",
       "      <td>2019-11-09</td>\n",
       "    </tr>\n",
       "  </tbody>\n",
       "</table>\n",
       "<p>3200 rows × 6 columns</p>\n",
       "</div>"
      ],
      "text/plain": [
       "                                CustomerID   Age  Gender             Location  \\\n",
       "0     9207fa75-5758-48d1-94ad-19c041e0520f  51.0  Female           Jensenberg   \n",
       "1     5fb09cd8-a473-46f7-80bd-6e49cf509078   NaN  Female         Castilloport   \n",
       "2     c139496e-cc89-498a-bd90-1fb4627b6cff  37.0    Male    Lake Jennifertown   \n",
       "3     50118139-7264-428f-81cc-a25fddc5d6dd  44.0    Male            Port Carl   \n",
       "4     7d1f2bbc-8d16-4fbc-9b37-ece3324e8ed4  50.0  Female            Jessebury   \n",
       "...                                    ...   ...     ...                  ...   \n",
       "3195  bbf7c36f-3745-4d3a-9e33-f927c2755f65  45.0  Female           Roberttown   \n",
       "3196  0ef84cc6-0b4c-4c56-bdaa-d6b725ccc08e  40.0    Male             Lisaside   \n",
       "3197  0ede97d1-bb46-452d-893e-b63f37da4fa8   NaN  Female  North Christinaport   \n",
       "3198  43ec68f5-4305-4b40-8ced-a187d00bb3f5  26.0  Female         Carrilloport   \n",
       "3199  077936e6-6556-434f-9494-e5d671b6e71c  65.0  Female           Bryantside   \n",
       "\n",
       "     IncomeLevel  SignupDate  \n",
       "0            Low  2022-11-17  \n",
       "1           High  2020-07-21  \n",
       "2            NaN  2021-01-01  \n",
       "3         Medium  2024-06-10  \n",
       "4           High  2023-08-24  \n",
       "...          ...         ...  \n",
       "3195      Medium  2023-02-17  \n",
       "3196      Medium  2022-07-23  \n",
       "3197        High  2021-10-16  \n",
       "3198         Low  2022-09-26  \n",
       "3199        High  2019-11-09  \n",
       "\n",
       "[3200 rows x 6 columns]"
      ]
     },
     "execution_count": 21,
     "metadata": {},
     "output_type": "execute_result"
    }
   ],
   "source": [
    "df"
   ]
  },
  {
   "cell_type": "code",
   "execution_count": 23,
   "id": "e2baa6e7-ed0e-4233-b676-ab0163bf01f8",
   "metadata": {},
   "outputs": [
    {
     "name": "stdout",
     "output_type": "stream",
     "text": [
      "Total missing values in the dataset: 594\n"
     ]
    }
   ],
   "source": [
    "total_missing = df.isnull().sum().sum()\n",
    "print(f'Total missing values in the dataset: {total_missing}')"
   ]
  },
  {
   "cell_type": "code",
   "execution_count": 25,
   "id": "9c667424-794e-4b2d-bdc0-6794ecf54103",
   "metadata": {},
   "outputs": [
    {
     "name": "stdout",
     "output_type": "stream",
     "text": [
      "CustomerID       0\n",
      "Age            291\n",
      "Gender           0\n",
      "Location         0\n",
      "IncomeLevel    303\n",
      "SignupDate       0\n",
      "dtype: int64\n"
     ]
    }
   ],
   "source": [
    "missing_values = df.isnull().sum()\n",
    "print(missing_values)"
   ]
  },
  {
   "cell_type": "code",
   "execution_count": 27,
   "id": "bbb63ad0-b4ba-405a-b1c8-7ff9e2787956",
   "metadata": {},
   "outputs": [],
   "source": [
    "df = df.dropna(subset=['Age'])"
   ]
  },
  {
   "cell_type": "code",
   "execution_count": 29,
   "id": "742eb5d3-acf1-412d-9d98-c3cd4d1c64d9",
   "metadata": {},
   "outputs": [
    {
     "name": "stdout",
     "output_type": "stream",
     "text": [
      "CustomerID       0\n",
      "Age              0\n",
      "Gender           0\n",
      "Location         0\n",
      "IncomeLevel    271\n",
      "SignupDate       0\n",
      "dtype: int64\n"
     ]
    }
   ],
   "source": [
    "missing_values = df.isnull().sum()\n",
    "print(missing_values)"
   ]
  },
  {
   "cell_type": "code",
   "execution_count": 31,
   "id": "0b763e98-e488-471b-9dba-cded3f510c25",
   "metadata": {},
   "outputs": [],
   "source": [
    "df = df.dropna(subset=['IncomeLevel'])"
   ]
  },
  {
   "cell_type": "code",
   "execution_count": 33,
   "id": "dcea8066-0e02-4d4b-9c5f-7a3196a7b013",
   "metadata": {},
   "outputs": [
    {
     "name": "stdout",
     "output_type": "stream",
     "text": [
      "CustomerID     0\n",
      "Age            0\n",
      "Gender         0\n",
      "Location       0\n",
      "IncomeLevel    0\n",
      "SignupDate     0\n",
      "dtype: int64\n"
     ]
    }
   ],
   "source": [
    "missing_values = df.isnull().sum()\n",
    "print(missing_values)"
   ]
  },
  {
   "cell_type": "code",
   "execution_count": 35,
   "id": "e761a14e-897d-4158-b04b-0d087495e8c8",
   "metadata": {},
   "outputs": [
    {
     "name": "stdout",
     "output_type": "stream",
     "text": [
      "Total number of duplicate rows: 145\n"
     ]
    }
   ],
   "source": [
    "duplicate_count = df.duplicated().sum()\n",
    "\n",
    "print(f'Total number of duplicate rows: {duplicate_count}')"
   ]
  },
  {
   "cell_type": "code",
   "execution_count": 37,
   "id": "a96fd652-5756-4088-95b0-3165c68567cc",
   "metadata": {},
   "outputs": [],
   "source": [
    "df_cleaned = df.drop_duplicates()"
   ]
  },
  {
   "cell_type": "code",
   "execution_count": 39,
   "id": "11fefcdc-db13-4de9-b281-c6e9c021db6f",
   "metadata": {},
   "outputs": [
    {
     "name": "stdout",
     "output_type": "stream",
     "text": [
      "\n",
      "DataFrame after removing duplicates:\n",
      "                                CustomerID      Age  Gender         Location  \\\n",
      "0     9207fa75-5758-48d1-94ad-19c041e0520f     51.0  Female       Jensenberg   \n",
      "3     50118139-7264-428f-81cc-a25fddc5d6dd     44.0    Male        Port Carl   \n",
      "4     7d1f2bbc-8d16-4fbc-9b37-ece3324e8ed4     50.0  Female        Jessebury   \n",
      "5     2de49c7c-32ae-4ba8-b058-622a090d7094     53.0  Female       Emilyville   \n",
      "10    c96a5ee9-f1a6-416a-adc6-1c8b128c7399      150    Male       Hansontown   \n",
      "...                                    ...      ...     ...              ...   \n",
      "3165  48313b18-ccdb-4946-b958-1ebfc92dcc2a     59.0    Male     South Andrea   \n",
      "3178  bbe76a26-234f-4a70-b71f-fa9b183f6353  Unknown    Male      Gregoryfurt   \n",
      "3183  7eb7f7df-9b0a-416a-829e-bcf4d8bd57dc     55.0    Male  New Anthonyland   \n",
      "3186  ce5cf079-859b-43fa-9609-c6bb7e12c6b7     41.0  Female      Adrianhaven   \n",
      "3195  bbf7c36f-3745-4d3a-9e33-f927c2755f65     45.0  Female       Roberttown   \n",
      "\n",
      "     IncomeLevel  SignupDate  \n",
      "0            Low  2022-11-17  \n",
      "3         Medium  2024-06-10  \n",
      "4           High  2023-08-24  \n",
      "5            Low  2022-02-13  \n",
      "10          High  2020-09-17  \n",
      "...          ...         ...  \n",
      "3165        High  2020-02-26  \n",
      "3178        High  2020-06-23  \n",
      "3183        High  2022-07-23  \n",
      "3186         Low  2024-01-10  \n",
      "3195      Medium  2023-02-17  \n",
      "\n",
      "[2493 rows x 6 columns]\n"
     ]
    }
   ],
   "source": [
    "print(\"\\nDataFrame after removing duplicates:\")\n",
    "print(df_cleaned)"
   ]
  },
  {
   "cell_type": "code",
   "execution_count": 41,
   "id": "484e2752-fa86-4a09-be7f-a3330b5a5382",
   "metadata": {},
   "outputs": [
    {
     "name": "stdout",
     "output_type": "stream",
     "text": [
      "Total number of duplicate rows: 145\n"
     ]
    }
   ],
   "source": [
    "duplicate_count = df.duplicated().sum()\n",
    "\n",
    "print(f'Total number of duplicate rows: {duplicate_count}')"
   ]
  },
  {
   "cell_type": "code",
   "execution_count": 43,
   "id": "03445b70-9c2c-4cfb-b90e-147700533dad",
   "metadata": {},
   "outputs": [],
   "source": [
    "df_cleaned = df.drop_duplicates()"
   ]
  },
  {
   "cell_type": "code",
   "execution_count": 45,
   "id": "e1f0e065-ca60-4de9-8a77-496c8d84fccb",
   "metadata": {},
   "outputs": [],
   "source": [
    "df_cleaned = df.drop_duplicates()"
   ]
  },
  {
   "cell_type": "code",
   "execution_count": 47,
   "id": "161f58a1-be0f-48c4-98d3-c12c6596b493",
   "metadata": {},
   "outputs": [
    {
     "name": "stdout",
     "output_type": "stream",
     "text": [
      "Total number of duplicate rows: 145\n"
     ]
    }
   ],
   "source": [
    "duplicate_count = df.duplicated().sum()\n",
    "\n",
    "print(f'Total number of duplicate rows: {duplicate_count}')"
   ]
  },
  {
   "cell_type": "code",
   "execution_count": 49,
   "id": "60a58721-e7e1-4b2c-a53e-85ff6dac4be3",
   "metadata": {},
   "outputs": [],
   "source": [
    "df_cleaned = df.drop_duplicates()"
   ]
  },
  {
   "cell_type": "code",
   "execution_count": 55,
   "id": "096399e6-7c73-4016-80c4-b5f217c5f2f3",
   "metadata": {},
   "outputs": [
    {
     "name": "stdout",
     "output_type": "stream",
     "text": [
      "Total number of duplicate rows: 145\n"
     ]
    }
   ],
   "source": [
    "duplicate_count = df.duplicated().sum()\n",
    "\n",
    "print(f'Total number of duplicate rows: {duplicate_count}')"
   ]
  },
  {
   "cell_type": "code",
   "execution_count": 57,
   "id": "b51942fb-f5ca-45e3-9b48-bab19d024d3e",
   "metadata": {},
   "outputs": [],
   "source": [
    "df_cleaned = df.drop_duplicates()"
   ]
  },
  {
   "cell_type": "code",
   "execution_count": 59,
   "id": "7b5e65ed-a1fa-4164-9571-f0eca75308df",
   "metadata": {},
   "outputs": [
    {
     "name": "stdout",
     "output_type": "stream",
     "text": [
      "Number of rows after removing duplicates: 2493\n"
     ]
    }
   ],
   "source": [
    "print(f'Number of rows after removing duplicates: {df_cleaned.shape[0]}')"
   ]
  },
  {
   "cell_type": "code",
   "execution_count": 61,
   "id": "5e1b49e7-c5f8-49fc-98c6-4bbaf7ad7665",
   "metadata": {},
   "outputs": [
    {
     "name": "stdout",
     "output_type": "stream",
     "text": [
      "Total number of duplicate rows: 145\n"
     ]
    }
   ],
   "source": [
    "print(f'Total number of duplicate rows: {df.duplicated().sum()}')"
   ]
  },
  {
   "cell_type": "code",
   "execution_count": 63,
   "id": "afad40c4-5d5f-4c1d-9552-1a6cbfacec41",
   "metadata": {},
   "outputs": [
    {
     "ename": "NameError",
     "evalue": "name 'data' is not defined",
     "output_type": "error",
     "traceback": [
      "\u001b[1;31m---------------------------------------------------------------------------\u001b[0m",
      "\u001b[1;31mNameError\u001b[0m                                 Traceback (most recent call last)",
      "Cell \u001b[1;32mIn[63], line 1\u001b[0m\n\u001b[1;32m----> 1\u001b[0m df \u001b[38;5;241m=\u001b[39m pd\u001b[38;5;241m.\u001b[39mDataFrame(data)\n",
      "\u001b[1;31mNameError\u001b[0m: name 'data' is not defined"
     ]
    }
   ],
   "source": [
    "df = pd.DataFrame(data)"
   ]
  },
  {
   "cell_type": "code",
   "execution_count": 65,
   "id": "206dbb3b-ccfa-4a0e-b9e3-f5f9a33ef64d",
   "metadata": {},
   "outputs": [
    {
     "name": "stdout",
     "output_type": "stream",
     "text": [
      "Total number of duplicate rows: 145\n"
     ]
    }
   ],
   "source": [
    "duplicate_count = df.duplicated().sum()\n",
    "\n",
    "print(f'Total number of duplicate rows: {duplicate_count}')"
   ]
  },
  {
   "cell_type": "code",
   "execution_count": 67,
   "id": "d29ac8e8-e596-45ee-bad0-6a912d059cde",
   "metadata": {},
   "outputs": [
    {
     "name": "stdout",
     "output_type": "stream",
     "text": [
      "Duplicate Rows:\n",
      "                                CustomerID   Age  Gender           Location  \\\n",
      "18    8de7560f-370d-4cfd-8135-20a3de237264  31.0  Female        Colemanstad   \n",
      "54    c9f831b4-43cf-4ed9-9b47-09542e239c70  53.0  Female      East Ryanbury   \n",
      "56    348c5ab5-992d-4780-ba71-d1a5e3818191  46.0  Female      New Jesseside   \n",
      "106   74335a51-6283-4262-b8a5-c72d988f3007  56.0  Female  East Zacharyville   \n",
      "114   409d7d69-e0b1-4493-8b23-100fb9518966  64.0  Female     Bradleyborough   \n",
      "...                                    ...   ...     ...                ...   \n",
      "3193  99d38969-3c5f-4387-bb49-1ba429f7acae  31.0    Male  New Walterborough   \n",
      "3194  40c2909d-983b-4c95-a737-2022acba98ee  28.0    Male      Josephborough   \n",
      "3196  0ef84cc6-0b4c-4c56-bdaa-d6b725ccc08e  40.0    Male           Lisaside   \n",
      "3198  43ec68f5-4305-4b40-8ced-a187d00bb3f5  26.0  Female       Carrilloport   \n",
      "3199  077936e6-6556-434f-9494-e5d671b6e71c  65.0  Female         Bryantside   \n",
      "\n",
      "     IncomeLevel  SignupDate  \n",
      "18           Low  2020-12-01  \n",
      "54        Medium  2023-10-12  \n",
      "56           Low  2023-09-24  \n",
      "106          Low  2019-09-17  \n",
      "114          Low  2023-03-11  \n",
      "...          ...         ...  \n",
      "3193        High  2020-06-15  \n",
      "3194        High  2020-02-14  \n",
      "3196      Medium  2022-07-23  \n",
      "3198         Low  2022-09-26  \n",
      "3199        High  2019-11-09  \n",
      "\n",
      "[290 rows x 6 columns]\n"
     ]
    }
   ],
   "source": [
    "duplicate_rows = df[df.duplicated(keep=False)]\n",
    "print(\"Duplicate Rows:\")\n",
    "print(duplicate_rows)"
   ]
  },
  {
   "cell_type": "code",
   "execution_count": 69,
   "id": "7115af4e-8108-4d04-b37f-315a0df2572c",
   "metadata": {},
   "outputs": [],
   "source": [
    "df.drop_duplicates(inplace=True)"
   ]
  },
  {
   "cell_type": "code",
   "execution_count": 71,
   "id": "fccffd90-7052-4083-bcab-98ae07eac5a6",
   "metadata": {},
   "outputs": [
    {
     "name": "stdout",
     "output_type": "stream",
     "text": [
      "Total number of duplicate rows after cleaning: 0\n"
     ]
    }
   ],
   "source": [
    "duplicate_count_after = df_cleaned.duplicated().sum()\n",
    "print(f'Total number of duplicate rows after cleaning: {duplicate_count_after}')"
   ]
  },
  {
   "cell_type": "code",
   "execution_count": 73,
   "id": "f9b37eb7-36a9-41cd-8efd-69861855a010",
   "metadata": {},
   "outputs": [],
   "source": [
    "df_cleaned.reset_index(drop=True, inplace=True)"
   ]
  },
  {
   "cell_type": "code",
   "execution_count": 75,
   "id": "48dc53a6-2dc2-4871-85c6-5b16e3c5c50a",
   "metadata": {},
   "outputs": [
    {
     "name": "stdout",
     "output_type": "stream",
     "text": [
      "Cleaned DataFrame:\n",
      "                                CustomerID      Age  Gender         Location  \\\n",
      "0     9207fa75-5758-48d1-94ad-19c041e0520f     51.0  Female       Jensenberg   \n",
      "1     50118139-7264-428f-81cc-a25fddc5d6dd     44.0    Male        Port Carl   \n",
      "2     7d1f2bbc-8d16-4fbc-9b37-ece3324e8ed4     50.0  Female        Jessebury   \n",
      "3     2de49c7c-32ae-4ba8-b058-622a090d7094     53.0  Female       Emilyville   \n",
      "4     c96a5ee9-f1a6-416a-adc6-1c8b128c7399      150    Male       Hansontown   \n",
      "...                                    ...      ...     ...              ...   \n",
      "2488  48313b18-ccdb-4946-b958-1ebfc92dcc2a     59.0    Male     South Andrea   \n",
      "2489  bbe76a26-234f-4a70-b71f-fa9b183f6353  Unknown    Male      Gregoryfurt   \n",
      "2490  7eb7f7df-9b0a-416a-829e-bcf4d8bd57dc     55.0    Male  New Anthonyland   \n",
      "2491  ce5cf079-859b-43fa-9609-c6bb7e12c6b7     41.0  Female      Adrianhaven   \n",
      "2492  bbf7c36f-3745-4d3a-9e33-f927c2755f65     45.0  Female       Roberttown   \n",
      "\n",
      "     IncomeLevel  SignupDate  \n",
      "0            Low  2022-11-17  \n",
      "1         Medium  2024-06-10  \n",
      "2           High  2023-08-24  \n",
      "3            Low  2022-02-13  \n",
      "4           High  2020-09-17  \n",
      "...          ...         ...  \n",
      "2488        High  2020-02-26  \n",
      "2489        High  2020-06-23  \n",
      "2490        High  2022-07-23  \n",
      "2491         Low  2024-01-10  \n",
      "2492      Medium  2023-02-17  \n",
      "\n",
      "[2493 rows x 6 columns]\n"
     ]
    }
   ],
   "source": [
    "print(\"Cleaned DataFrame:\")\n",
    "print(df_cleaned)"
   ]
  },
  {
   "cell_type": "code",
   "execution_count": 77,
   "id": "5342698c-3003-4ec5-9b09-74237812b2c9",
   "metadata": {},
   "outputs": [],
   "source": [
    "df_cleaned.to_csv('cleaned_demographic_data.csv', index=False)"
   ]
  },
  {
   "cell_type": "code",
   "execution_count": null,
   "id": "1733c63d-a544-4359-995d-2b4a31b0ea81",
   "metadata": {},
   "outputs": [],
   "source": []
  }
 ],
 "metadata": {
  "kernelspec": {
   "display_name": "Python 3 (ipykernel)",
   "language": "python",
   "name": "python3"
  },
  "language_info": {
   "codemirror_mode": {
    "name": "ipython",
    "version": 3
   },
   "file_extension": ".py",
   "mimetype": "text/x-python",
   "name": "python",
   "nbconvert_exporter": "python",
   "pygments_lexer": "ipython3",
   "version": "3.12.4"
  }
 },
 "nbformat": 4,
 "nbformat_minor": 5
}
