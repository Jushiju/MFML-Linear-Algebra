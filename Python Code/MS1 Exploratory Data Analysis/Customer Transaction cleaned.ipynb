{
 "cells": [
  {
   "cell_type": "code",
   "execution_count": 1,
   "id": "2501abe9-ff89-458f-8ecc-9ee4014fe881",
   "metadata": {},
   "outputs": [],
   "source": [
    "import pandas as pd"
   ]
  },
  {
   "cell_type": "code",
   "execution_count": 17,
   "id": "93e4c959-d30a-4988-82ae-7399064b0b86",
   "metadata": {},
   "outputs": [],
   "source": [
    "df = pd.read_csv ('customer_transactions_contaminated.csv')"
   ]
  },
  {
   "cell_type": "code",
   "execution_count": 27,
   "id": "66e7ae4c-9521-4472-8255-d634abddd60d",
   "metadata": {},
   "outputs": [
    {
     "name": "stdout",
     "output_type": "stream",
     "text": [
      "<class 'pandas.core.frame.DataFrame'>\n",
      "RangeIndex: 3200 entries, 0 to 3199\n",
      "Data columns (total 6 columns):\n",
      " #   Column           Non-Null Count  Dtype \n",
      "---  ------           --------------  ----- \n",
      " 0   CustomerID       3200 non-null   object\n",
      " 1   TransactionID    3200 non-null   object\n",
      " 2   TransactionDate  3200 non-null   object\n",
      " 3   Amount           2896 non-null   object\n",
      " 4   ProductCategory  2901 non-null   object\n",
      " 5   PaymentMethod    3200 non-null   object\n",
      "dtypes: object(6)\n",
      "memory usage: 150.1+ KB\n"
     ]
    }
   ],
   "source": [
    "df.info()"
   ]
  },
  {
   "cell_type": "code",
   "execution_count": 29,
   "id": "3f467084-92fe-4923-b37e-b1f209ec738e",
   "metadata": {},
   "outputs": [
    {
     "name": "stdout",
     "output_type": "stream",
     "text": [
      "Total missing values in the dataset: 603\n"
     ]
    }
   ],
   "source": [
    "total_missing = df.isnull().sum().sum()\n",
    "print(f'Total missing values in the dataset: {total_missing}')"
   ]
  },
  {
   "cell_type": "code",
   "execution_count": 31,
   "id": "9f32db94-bfd3-420a-91c7-8a439af10e6a",
   "metadata": {},
   "outputs": [],
   "source": [
    "df_cleaned = df.dropna(axis=1)"
   ]
  },
  {
   "cell_type": "code",
   "execution_count": 33,
   "id": "457189ed-6b6c-4502-9409-f39212e44abd",
   "metadata": {},
   "outputs": [
    {
     "name": "stdout",
     "output_type": "stream",
     "text": [
      "Total missing values in the dataset: 603\n"
     ]
    }
   ],
   "source": [
    "total_missing = df.isnull().sum().sum()\n",
    "print(f'Total missing values in the dataset: {total_missing}')"
   ]
  },
  {
   "cell_type": "code",
   "execution_count": 35,
   "id": "6d7980f8-976c-4b15-a461-25342076ab1d",
   "metadata": {},
   "outputs": [
    {
     "data": {
      "text/html": [
       "<div>\n",
       "<style scoped>\n",
       "    .dataframe tbody tr th:only-of-type {\n",
       "        vertical-align: middle;\n",
       "    }\n",
       "\n",
       "    .dataframe tbody tr th {\n",
       "        vertical-align: top;\n",
       "    }\n",
       "\n",
       "    .dataframe thead th {\n",
       "        text-align: right;\n",
       "    }\n",
       "</style>\n",
       "<table border=\"1\" class=\"dataframe\">\n",
       "  <thead>\n",
       "    <tr style=\"text-align: right;\">\n",
       "      <th></th>\n",
       "      <th>CustomerID</th>\n",
       "      <th>TransactionID</th>\n",
       "      <th>TransactionDate</th>\n",
       "      <th>Amount</th>\n",
       "      <th>ProductCategory</th>\n",
       "      <th>PaymentMethod</th>\n",
       "    </tr>\n",
       "  </thead>\n",
       "  <tbody>\n",
       "    <tr>\n",
       "      <th>0</th>\n",
       "      <td>60567026-f719-4cd6-849e-137e86d8938f</td>\n",
       "      <td>5ff75116-0a50-4d04-80fb-31e5ccbb0769</td>\n",
       "      <td>2024-05-15</td>\n",
       "      <td>117.64</td>\n",
       "      <td>Clothing</td>\n",
       "      <td>PayPal</td>\n",
       "    </tr>\n",
       "    <tr>\n",
       "      <th>1</th>\n",
       "      <td>4090ba85-b111-4f75-a792-c777965f5255</td>\n",
       "      <td>2c39b9fe-ff57-4d39-9321-9f5cdf187aa1</td>\n",
       "      <td>2023-04-26</td>\n",
       "      <td>466.14</td>\n",
       "      <td>Health &amp; Beauty</td>\n",
       "      <td>Bank Transfer</td>\n",
       "    </tr>\n",
       "    <tr>\n",
       "      <th>2</th>\n",
       "      <td>9223891b-73ff-4d5c-b8ae-13ece82ee28b</td>\n",
       "      <td>f79588dd-3db9-4ffa-97f8-7de0e64259f1</td>\n",
       "      <td>2022-09-23</td>\n",
       "      <td>563.99</td>\n",
       "      <td>Clothing</td>\n",
       "      <td>Debit Card</td>\n",
       "    </tr>\n",
       "    <tr>\n",
       "      <th>3</th>\n",
       "      <td>9243eebc-938f-480c-8564-16d503d250de</td>\n",
       "      <td>401c0fc9-60df-4455-ad78-67c132f9897d</td>\n",
       "      <td>2024-04-15</td>\n",
       "      <td>254.44</td>\n",
       "      <td>Automotive</td>\n",
       "      <td>PayPal</td>\n",
       "    </tr>\n",
       "    <tr>\n",
       "      <th>4</th>\n",
       "      <td>6e3e8eb8-bc0f-4ffe-9f74-5d5efec9502f</td>\n",
       "      <td>2034aebc-8280-4254-a667-92bcd1c2be4f</td>\n",
       "      <td>2024-06-03</td>\n",
       "      <td>590.52</td>\n",
       "      <td>Home &amp; Garden</td>\n",
       "      <td>Bank Transfer</td>\n",
       "    </tr>\n",
       "    <tr>\n",
       "      <th>...</th>\n",
       "      <td>...</td>\n",
       "      <td>...</td>\n",
       "      <td>...</td>\n",
       "      <td>...</td>\n",
       "      <td>...</td>\n",
       "      <td>...</td>\n",
       "    </tr>\n",
       "    <tr>\n",
       "      <th>3195</th>\n",
       "      <td>59f8afe5-173b-4e52-b641-f98183f1a891</td>\n",
       "      <td>3121df10-58e5-4ed4-a05c-b1f12df6bcc7</td>\n",
       "      <td>2023-01-18</td>\n",
       "      <td>892.44</td>\n",
       "      <td>Home &amp; Garden</td>\n",
       "      <td>Bank Transfer</td>\n",
       "    </tr>\n",
       "    <tr>\n",
       "      <th>3196</th>\n",
       "      <td>16d0b561-279d-4da9-9aa8-8c5906dff79a</td>\n",
       "      <td>dff4f636-2c55-4237-8c55-efb15b05949b</td>\n",
       "      <td>2024-02-13</td>\n",
       "      <td>431.64</td>\n",
       "      <td>Health &amp; Beauty</td>\n",
       "      <td>Credit Card</td>\n",
       "    </tr>\n",
       "    <tr>\n",
       "      <th>3197</th>\n",
       "      <td>34e3f558-622e-4d6b-8d5d-07ab632e1b95</td>\n",
       "      <td>db0a4640-ea96-4fcd-989b-b71ba767529c</td>\n",
       "      <td>2022-12-26</td>\n",
       "      <td>NaN</td>\n",
       "      <td>Home &amp; Garden</td>\n",
       "      <td>PayPal</td>\n",
       "    </tr>\n",
       "    <tr>\n",
       "      <th>3198</th>\n",
       "      <td>d83178cf-653d-435c-a7e8-880361dec6e7</td>\n",
       "      <td>89a1c0bc-4d49-4913-bb0f-26bd56b46a34</td>\n",
       "      <td>2022-09-26</td>\n",
       "      <td>343.46</td>\n",
       "      <td>Health &amp; Beauty</td>\n",
       "      <td>Debit Card</td>\n",
       "    </tr>\n",
       "    <tr>\n",
       "      <th>3199</th>\n",
       "      <td>d64b0c8d-1831-4b29-baa2-08c4d5c3a0f9</td>\n",
       "      <td>6c47f481-3a5c-49bc-ab1d-2b198394b2e8</td>\n",
       "      <td>2023-06-20</td>\n",
       "      <td>NaN</td>\n",
       "      <td>Electronics</td>\n",
       "      <td>Debit Card</td>\n",
       "    </tr>\n",
       "  </tbody>\n",
       "</table>\n",
       "<p>3200 rows × 6 columns</p>\n",
       "</div>"
      ],
      "text/plain": [
       "                                CustomerID  \\\n",
       "0     60567026-f719-4cd6-849e-137e86d8938f   \n",
       "1     4090ba85-b111-4f75-a792-c777965f5255   \n",
       "2     9223891b-73ff-4d5c-b8ae-13ece82ee28b   \n",
       "3     9243eebc-938f-480c-8564-16d503d250de   \n",
       "4     6e3e8eb8-bc0f-4ffe-9f74-5d5efec9502f   \n",
       "...                                    ...   \n",
       "3195  59f8afe5-173b-4e52-b641-f98183f1a891   \n",
       "3196  16d0b561-279d-4da9-9aa8-8c5906dff79a   \n",
       "3197  34e3f558-622e-4d6b-8d5d-07ab632e1b95   \n",
       "3198  d83178cf-653d-435c-a7e8-880361dec6e7   \n",
       "3199  d64b0c8d-1831-4b29-baa2-08c4d5c3a0f9   \n",
       "\n",
       "                             TransactionID TransactionDate  Amount  \\\n",
       "0     5ff75116-0a50-4d04-80fb-31e5ccbb0769      2024-05-15  117.64   \n",
       "1     2c39b9fe-ff57-4d39-9321-9f5cdf187aa1      2023-04-26  466.14   \n",
       "2     f79588dd-3db9-4ffa-97f8-7de0e64259f1      2022-09-23  563.99   \n",
       "3     401c0fc9-60df-4455-ad78-67c132f9897d      2024-04-15  254.44   \n",
       "4     2034aebc-8280-4254-a667-92bcd1c2be4f      2024-06-03  590.52   \n",
       "...                                    ...             ...     ...   \n",
       "3195  3121df10-58e5-4ed4-a05c-b1f12df6bcc7      2023-01-18  892.44   \n",
       "3196  dff4f636-2c55-4237-8c55-efb15b05949b      2024-02-13  431.64   \n",
       "3197  db0a4640-ea96-4fcd-989b-b71ba767529c      2022-12-26     NaN   \n",
       "3198  89a1c0bc-4d49-4913-bb0f-26bd56b46a34      2022-09-26  343.46   \n",
       "3199  6c47f481-3a5c-49bc-ab1d-2b198394b2e8      2023-06-20     NaN   \n",
       "\n",
       "      ProductCategory  PaymentMethod  \n",
       "0            Clothing         PayPal  \n",
       "1     Health & Beauty  Bank Transfer  \n",
       "2            Clothing     Debit Card  \n",
       "3          Automotive         PayPal  \n",
       "4       Home & Garden  Bank Transfer  \n",
       "...               ...            ...  \n",
       "3195    Home & Garden  Bank Transfer  \n",
       "3196  Health & Beauty    Credit Card  \n",
       "3197    Home & Garden         PayPal  \n",
       "3198  Health & Beauty     Debit Card  \n",
       "3199      Electronics     Debit Card  \n",
       "\n",
       "[3200 rows x 6 columns]"
      ]
     },
     "execution_count": 35,
     "metadata": {},
     "output_type": "execute_result"
    }
   ],
   "source": [
    "df"
   ]
  },
  {
   "cell_type": "code",
   "execution_count": 37,
   "id": "ffbc9d14-5577-421a-b59e-6c6d9142dac5",
   "metadata": {},
   "outputs": [],
   "source": [
    "df_cleaned = df.dropna()"
   ]
  },
  {
   "cell_type": "code",
   "execution_count": 39,
   "id": "ca39c0c0-8373-4602-8677-b925f6178b0b",
   "metadata": {},
   "outputs": [
    {
     "name": "stdout",
     "output_type": "stream",
     "text": [
      "Total missing values in the dataset: 603\n"
     ]
    }
   ],
   "source": [
    "total_missing = df.isnull().sum().sum()\n",
    "print(f'Total missing values in the dataset: {total_missing}')"
   ]
  },
  {
   "cell_type": "code",
   "execution_count": 41,
   "id": "2b3025f1-7d21-4184-825d-b3be8aa173c6",
   "metadata": {},
   "outputs": [
    {
     "ename": "NameError",
     "evalue": "name 'missing_values' is not defined",
     "output_type": "error",
     "traceback": [
      "\u001b[1;31m---------------------------------------------------------------------------\u001b[0m",
      "\u001b[1;31mNameError\u001b[0m                                 Traceback (most recent call last)",
      "Cell \u001b[1;32mIn[41], line 1\u001b[0m\n\u001b[1;32m----> 1\u001b[0m \u001b[38;5;28mprint\u001b[39m(missing_values)\n",
      "\u001b[1;31mNameError\u001b[0m: name 'missing_values' is not defined"
     ]
    }
   ],
   "source": [
    "print(missing_values)"
   ]
  },
  {
   "cell_type": "code",
   "execution_count": 43,
   "id": "e784066d-4392-46f3-b0cc-981ad938b190",
   "metadata": {},
   "outputs": [
    {
     "name": "stdout",
     "output_type": "stream",
     "text": [
      "CustomerID           0\n",
      "TransactionID        0\n",
      "TransactionDate      0\n",
      "Amount             304\n",
      "ProductCategory    299\n",
      "PaymentMethod        0\n",
      "dtype: int64\n"
     ]
    }
   ],
   "source": [
    "missing_values = df.isnull().sum()\n",
    "print(missing_values)"
   ]
  },
  {
   "cell_type": "code",
   "execution_count": 45,
   "id": "941209f2-bcb4-4234-bba0-a28ec130b56e",
   "metadata": {},
   "outputs": [],
   "source": [
    "df = df.dropna(subset=['Amount'])"
   ]
  },
  {
   "cell_type": "code",
   "execution_count": 47,
   "id": "931a5032-9d72-444e-9e7c-362ac71d9dc9",
   "metadata": {},
   "outputs": [
    {
     "name": "stdout",
     "output_type": "stream",
     "text": [
      "CustomerID           0\n",
      "TransactionID        0\n",
      "TransactionDate      0\n",
      "Amount               0\n",
      "ProductCategory    272\n",
      "PaymentMethod        0\n",
      "dtype: int64\n"
     ]
    }
   ],
   "source": [
    "missing_values = df.isnull().sum()\n",
    "print(missing_values)"
   ]
  },
  {
   "cell_type": "code",
   "execution_count": 51,
   "id": "846e87e6-766a-483b-8945-29272e8709ab",
   "metadata": {},
   "outputs": [],
   "source": [
    "df = df.dropna(subset=['ProductCategory'])"
   ]
  },
  {
   "cell_type": "code",
   "execution_count": 53,
   "id": "03c82833-96ef-4892-bfcf-07966be69bcd",
   "metadata": {},
   "outputs": [
    {
     "name": "stdout",
     "output_type": "stream",
     "text": [
      "CustomerID         0\n",
      "TransactionID      0\n",
      "TransactionDate    0\n",
      "Amount             0\n",
      "ProductCategory    0\n",
      "PaymentMethod      0\n",
      "dtype: int64\n"
     ]
    }
   ],
   "source": [
    "missing_values = df.isnull().sum()\n",
    "print(missing_values)"
   ]
  },
  {
   "cell_type": "code",
   "execution_count": 55,
   "id": "24ff0bd4-2fd8-4c46-ac17-c32f6dec6f5c",
   "metadata": {},
   "outputs": [],
   "source": [
    "df_cleaned = df.drop_duplicates()"
   ]
  },
  {
   "cell_type": "code",
   "execution_count": 61,
   "id": "f9a251f2-e60b-4408-a636-8977a3b85480",
   "metadata": {},
   "outputs": [
    {
     "name": "stdout",
     "output_type": "stream",
     "text": [
      "0       False\n",
      "1       False\n",
      "2       False\n",
      "3       False\n",
      "4       False\n",
      "        ...  \n",
      "3189     True\n",
      "3191     True\n",
      "3195     True\n",
      "3196     True\n",
      "3198     True\n",
      "Length: 2624, dtype: bool\n"
     ]
    }
   ],
   "source": [
    "duplicates = df.duplicated()\n",
    "print(duplicates)\n"
   ]
  },
  {
   "cell_type": "code",
   "execution_count": 63,
   "id": "d2b1c6fc-f8f4-4edf-b832-a8bed74ed430",
   "metadata": {},
   "outputs": [
    {
     "name": "stdout",
     "output_type": "stream",
     "text": [
      "Total number of duplicate rows: 148\n"
     ]
    }
   ],
   "source": [
    "duplicate_count = df.duplicated().sum()\n",
    "\n",
    "print(f'Total number of duplicate rows: {duplicate_count}')"
   ]
  },
  {
   "cell_type": "code",
   "execution_count": 65,
   "id": "89548822-734a-4a64-9588-085d485c0a70",
   "metadata": {},
   "outputs": [
    {
     "name": "stdout",
     "output_type": "stream",
     "text": [
      "                                CustomerID  \\\n",
      "3000  cdaabaa5-aae1-4d4d-8491-994aceea9621   \n",
      "3001  9d8bf85a-a329-4a0b-a46a-4cc840629255   \n",
      "3002  cc5da89b-c295-41c3-b27d-c759cca78ba8   \n",
      "3003  7982720f-fa58-47f3-b9cd-bdfd800d14e3   \n",
      "3004  551a4700-bea6-4596-b371-48c0ee1b5bf0   \n",
      "...                                    ...   \n",
      "3189  79a5eedf-99cd-4151-9007-8d0904daf592   \n",
      "3191  b69f9ff9-837b-4582-8187-1f2f28c6e2d2   \n",
      "3195  59f8afe5-173b-4e52-b641-f98183f1a891   \n",
      "3196  16d0b561-279d-4da9-9aa8-8c5906dff79a   \n",
      "3198  d83178cf-653d-435c-a7e8-880361dec6e7   \n",
      "\n",
      "                             TransactionID TransactionDate  Amount  \\\n",
      "3000  e7149aea-3116-4232-9607-ffec14018dad      2023-03-21  482.62   \n",
      "3001  2fbba183-f355-4cfd-9903-5bf50cdaa707      2023-11-24    49.0   \n",
      "3002  85cc2094-90ad-460d-bffc-9eb5ceba9712      2023-09-19  433.61   \n",
      "3003  893674b7-bb73-44d1-a93b-5095d5f4919d      2024-04-30   22.89   \n",
      "3004  c5dcb16e-b1d0-46fc-a45d-b29b4cda3958      2022-11-22  663.12   \n",
      "...                                    ...             ...     ...   \n",
      "3189  ed9e281d-c0df-44a3-b18f-6aa4f2e2063d      2023-03-07  482.63   \n",
      "3191  5df1d055-556f-4ffd-b50a-c1465fb4a0c1      2022-11-02  324.11   \n",
      "3195  3121df10-58e5-4ed4-a05c-b1f12df6bcc7      2023-01-18  892.44   \n",
      "3196  dff4f636-2c55-4237-8c55-efb15b05949b      2024-02-13  431.64   \n",
      "3198  89a1c0bc-4d49-4913-bb0f-26bd56b46a34      2022-09-26  343.46   \n",
      "\n",
      "      ProductCategory  PaymentMethod  \n",
      "3000    Home & Garden    Credit Card  \n",
      "3001    Home & Garden     Debit Card  \n",
      "3002      Electronics  Bank Transfer  \n",
      "3003  Health & Beauty    Credit Card  \n",
      "3004       Automotive  Bank Transfer  \n",
      "...               ...            ...  \n",
      "3189  Health & Beauty    Credit Card  \n",
      "3191      Electronics         PayPal  \n",
      "3195    Home & Garden  Bank Transfer  \n",
      "3196  Health & Beauty    Credit Card  \n",
      "3198  Health & Beauty     Debit Card  \n",
      "\n",
      "[148 rows x 6 columns]\n"
     ]
    }
   ],
   "source": [
    "duplicate_rows = df[df.duplicated()]\n",
    "\n",
    "print(duplicate_rows)"
   ]
  },
  {
   "cell_type": "code",
   "execution_count": 67,
   "id": "8aeaf05d-d2dc-4795-8448-ae00ae65acc7",
   "metadata": {},
   "outputs": [
    {
     "name": "stdout",
     "output_type": "stream",
     "text": [
      "CustomerID                            TransactionID                         TransactionDate  Amount  ProductCategory  PaymentMethod\n",
      "0009fdd2-ae63-45ca-8d5b-d0ea98381f7b  86cd577d-4ffd-498d-94ce-e68e6cca8865  2023-10-26       389.69  Home & Garden    Bank Transfer    1\n",
      "00115fc0-f155-42cd-ba68-58aab67b3360  dbb294f9-9197-48a3-ac56-1b5b13c71388  2023-02-27       153.89  Electronics      Credit Card      2\n",
      "0047d8ce-a5bb-4db7-860f-6ff66e1cd060  8865b5c2-7091-4c67-b872-9f44e8a09913  2023-10-18       259.47  Clothing         Credit Card      1\n",
      "0064a8b2-71d3-41c1-a46a-6eea56fdff91  445b7dfb-f859-4d98-a53e-cc147f6cfeec  2022-09-25       933.2   Home & Garden    PayPal           1\n",
      "                                      7df9fe14-f574-4b83-aed4-ae7a7fd742f0  2023-09-06       297.14  Electronics      Bank Transfer    1\n",
      "                                                                                                                                      ..\n",
      "ff3f41ad-9dba-4ce4-97fb-022a275ed0d8  2357973d-ea9e-4599-97fc-9348acb46366  2024-03-27       503.47  Clothing         Credit Card      1\n",
      "ff4af2f8-bdeb-4428-bb48-5cfe24faf272  6e1382dc-ed35-48ae-936a-567a496c2b9b  2024-02-17       583.17  Health & Beauty  PayPal           1\n",
      "ff6d25c2-baeb-46ab-8ce4-4c39bde83c5a  f6485507-99bb-4bd0-b762-9a95f4c35f17  2023-07-21       914.98  Automotive       Credit Card      1\n",
      "ffe9a403-ac25-4aad-a809-ac9687ff3fcd  7081c872-a56f-40ee-b788-412864e49f85  2022-10-31       947.93  Clothing         Bank Transfer    1\n",
      "                                      c59819cc-cf92-4929-ad22-ef3435187be9  2023-04-01       -100    Automotive       Bank Transfer    1\n",
      "Length: 2476, dtype: int64\n"
     ]
    }
   ],
   "source": [
    "occurrence_count = df.groupby(list(df.columns)).size()\n",
    "\n",
    "print(occurrence_count)"
   ]
  },
  {
   "cell_type": "code",
   "execution_count": 69,
   "id": "0c1d28eb-7e73-4c93-8204-a8e71b890acb",
   "metadata": {},
   "outputs": [],
   "source": [
    "df_cleaned = df.drop_duplicates()"
   ]
  },
  {
   "cell_type": "code",
   "execution_count": 71,
   "id": "6fecbbe8-52cf-4513-9316-7a5e4d3d050e",
   "metadata": {},
   "outputs": [],
   "source": [
    "df_cleaned = df.drop_duplicates(keep='last')"
   ]
  },
  {
   "cell_type": "code",
   "execution_count": 73,
   "id": "c5242e9a-2c1a-4ea1-91c5-86459339cce5",
   "metadata": {},
   "outputs": [
    {
     "name": "stdout",
     "output_type": "stream",
     "text": [
      "Total number of duplicate rows: 148\n"
     ]
    }
   ],
   "source": [
    "duplicate_count = df.duplicated().sum()\n",
    "\n",
    "print(f'Total number of duplicate rows: {duplicate_count}')"
   ]
  },
  {
   "cell_type": "code",
   "execution_count": 75,
   "id": "653cc2b9-ac72-4f6a-8b94-bb76b1cbb2c2",
   "metadata": {},
   "outputs": [],
   "source": [
    "df_cleaned = df.drop_duplicates()"
   ]
  },
  {
   "cell_type": "code",
   "execution_count": 77,
   "id": "065b0b0c-298e-461d-9b2d-d731df2c549f",
   "metadata": {},
   "outputs": [
    {
     "name": "stdout",
     "output_type": "stream",
     "text": [
      "Total number of duplicate rows: 148\n"
     ]
    }
   ],
   "source": [
    "duplicate_count = df.duplicated().sum()\n",
    "\n",
    "print(f'Total number of duplicate rows: {duplicate_count}')"
   ]
  },
  {
   "cell_type": "code",
   "execution_count": 79,
   "id": "fb6f3bd1-a730-4e2b-807b-853623e5078c",
   "metadata": {},
   "outputs": [],
   "source": [
    "df_cleaned = df.drop_duplicates()\n"
   ]
  },
  {
   "cell_type": "code",
   "execution_count": 81,
   "id": "06b240b7-e328-4406-ba49-aa51b5927c5c",
   "metadata": {},
   "outputs": [
    {
     "name": "stdout",
     "output_type": "stream",
     "text": [
      "                                CustomerID  \\\n",
      "0     60567026-f719-4cd6-849e-137e86d8938f   \n",
      "1     4090ba85-b111-4f75-a792-c777965f5255   \n",
      "2     9223891b-73ff-4d5c-b8ae-13ece82ee28b   \n",
      "3     9243eebc-938f-480c-8564-16d503d250de   \n",
      "4     6e3e8eb8-bc0f-4ffe-9f74-5d5efec9502f   \n",
      "...                                    ...   \n",
      "3153  086370e7-8884-47d7-89b0-776401a43e1c   \n",
      "3157  7c7df909-aa25-48c7-af9d-6ebe714b28b6   \n",
      "3164  79fc606a-c02c-4c39-b065-3e88a59b366c   \n",
      "3174  6a84f1a7-f636-4300-bd8d-c7f888460829   \n",
      "3177  3ea377e6-1156-457e-8b4e-71fa6663e6bf   \n",
      "\n",
      "                             TransactionID TransactionDate  Amount  \\\n",
      "0     5ff75116-0a50-4d04-80fb-31e5ccbb0769      2024-05-15  117.64   \n",
      "1     2c39b9fe-ff57-4d39-9321-9f5cdf187aa1      2023-04-26  466.14   \n",
      "2     f79588dd-3db9-4ffa-97f8-7de0e64259f1      2022-09-23  563.99   \n",
      "3     401c0fc9-60df-4455-ad78-67c132f9897d      2024-04-15  254.44   \n",
      "4     2034aebc-8280-4254-a667-92bcd1c2be4f      2024-06-03  590.52   \n",
      "...                                    ...             ...     ...   \n",
      "3153  652636b6-5c72-44e1-aefb-6adce412ee75      2023-12-05  974.25   \n",
      "3157  eb26a4f4-5af2-4e25-b1f2-fd0de5583f7b      10/08/2022   50.07   \n",
      "3164  7fbe5cc4-a35e-4e8e-89d7-7b439659b9f6      20/07/2022  272.68   \n",
      "3174  185ee140-348a-4461-bd40-07a7e8535815      2023-10-09       0   \n",
      "3177  c751a808-ed8d-44d0-8c52-8253ad564c9a      2023-09-22    -100   \n",
      "\n",
      "      ProductCategory  PaymentMethod  \n",
      "0            Clothing         PayPal  \n",
      "1     Health & Beauty  Bank Transfer  \n",
      "2            Clothing     Debit Card  \n",
      "3          Automotive         PayPal  \n",
      "4       Home & Garden  Bank Transfer  \n",
      "...               ...            ...  \n",
      "3153      Electronics     Debit Card  \n",
      "3157       Automotive  Bank Transfer  \n",
      "3164         Clothing     Debit Card  \n",
      "3174  Health & Beauty         PayPal  \n",
      "3177  Health & Beauty    Credit Card  \n",
      "\n",
      "[2476 rows x 6 columns]\n"
     ]
    }
   ],
   "source": [
    "print(df_cleaned)\n"
   ]
  },
  {
   "cell_type": "code",
   "execution_count": 83,
   "id": "55556ed7-23bf-4df2-9ce0-735e1a6c5b57",
   "metadata": {},
   "outputs": [
    {
     "name": "stdout",
     "output_type": "stream",
     "text": [
      "                                CustomerID  \\\n",
      "3000  cdaabaa5-aae1-4d4d-8491-994aceea9621   \n",
      "3001  9d8bf85a-a329-4a0b-a46a-4cc840629255   \n",
      "3002  cc5da89b-c295-41c3-b27d-c759cca78ba8   \n",
      "3003  7982720f-fa58-47f3-b9cd-bdfd800d14e3   \n",
      "3004  551a4700-bea6-4596-b371-48c0ee1b5bf0   \n",
      "...                                    ...   \n",
      "3189  79a5eedf-99cd-4151-9007-8d0904daf592   \n",
      "3191  b69f9ff9-837b-4582-8187-1f2f28c6e2d2   \n",
      "3195  59f8afe5-173b-4e52-b641-f98183f1a891   \n",
      "3196  16d0b561-279d-4da9-9aa8-8c5906dff79a   \n",
      "3198  d83178cf-653d-435c-a7e8-880361dec6e7   \n",
      "\n",
      "                             TransactionID TransactionDate  Amount  \\\n",
      "3000  e7149aea-3116-4232-9607-ffec14018dad      2023-03-21  482.62   \n",
      "3001  2fbba183-f355-4cfd-9903-5bf50cdaa707      2023-11-24    49.0   \n",
      "3002  85cc2094-90ad-460d-bffc-9eb5ceba9712      2023-09-19  433.61   \n",
      "3003  893674b7-bb73-44d1-a93b-5095d5f4919d      2024-04-30   22.89   \n",
      "3004  c5dcb16e-b1d0-46fc-a45d-b29b4cda3958      2022-11-22  663.12   \n",
      "...                                    ...             ...     ...   \n",
      "3189  ed9e281d-c0df-44a3-b18f-6aa4f2e2063d      2023-03-07  482.63   \n",
      "3191  5df1d055-556f-4ffd-b50a-c1465fb4a0c1      2022-11-02  324.11   \n",
      "3195  3121df10-58e5-4ed4-a05c-b1f12df6bcc7      2023-01-18  892.44   \n",
      "3196  dff4f636-2c55-4237-8c55-efb15b05949b      2024-02-13  431.64   \n",
      "3198  89a1c0bc-4d49-4913-bb0f-26bd56b46a34      2022-09-26  343.46   \n",
      "\n",
      "      ProductCategory  PaymentMethod  \n",
      "3000    Home & Garden    Credit Card  \n",
      "3001    Home & Garden     Debit Card  \n",
      "3002      Electronics  Bank Transfer  \n",
      "3003  Health & Beauty    Credit Card  \n",
      "3004       Automotive  Bank Transfer  \n",
      "...               ...            ...  \n",
      "3189  Health & Beauty    Credit Card  \n",
      "3191      Electronics         PayPal  \n",
      "3195    Home & Garden  Bank Transfer  \n",
      "3196  Health & Beauty    Credit Card  \n",
      "3198  Health & Beauty     Debit Card  \n",
      "\n",
      "[148 rows x 6 columns]\n"
     ]
    }
   ],
   "source": [
    "duplicate_rows = df[df.duplicated()]\n",
    "\n",
    "print(duplicate_rows)"
   ]
  },
  {
   "cell_type": "code",
   "execution_count": 85,
   "id": "be3e2aff-3989-4201-bc6b-c1cd26afbd23",
   "metadata": {},
   "outputs": [
    {
     "name": "stdout",
     "output_type": "stream",
     "text": [
      "Total number of duplicate rows: 148\n"
     ]
    }
   ],
   "source": [
    "duplicate_count = df.duplicated().sum()\n",
    "\n",
    "print(f'Total number of duplicate rows: {duplicate_count}')"
   ]
  },
  {
   "cell_type": "code",
   "execution_count": 93,
   "id": "8c67547a-47f2-4926-8b58-e3ec52773563",
   "metadata": {},
   "outputs": [],
   "source": [
    "df_cleaned = df.drop_duplicates()"
   ]
  },
  {
   "cell_type": "code",
   "execution_count": 95,
   "id": "ca639685-d1bd-4f84-8e8f-48c70e0460a5",
   "metadata": {},
   "outputs": [
    {
     "name": "stdout",
     "output_type": "stream",
     "text": [
      "\n",
      "DataFrame after removing duplicates:\n",
      "                                CustomerID  \\\n",
      "0     60567026-f719-4cd6-849e-137e86d8938f   \n",
      "1     4090ba85-b111-4f75-a792-c777965f5255   \n",
      "2     9223891b-73ff-4d5c-b8ae-13ece82ee28b   \n",
      "3     9243eebc-938f-480c-8564-16d503d250de   \n",
      "4     6e3e8eb8-bc0f-4ffe-9f74-5d5efec9502f   \n",
      "...                                    ...   \n",
      "3153  086370e7-8884-47d7-89b0-776401a43e1c   \n",
      "3157  7c7df909-aa25-48c7-af9d-6ebe714b28b6   \n",
      "3164  79fc606a-c02c-4c39-b065-3e88a59b366c   \n",
      "3174  6a84f1a7-f636-4300-bd8d-c7f888460829   \n",
      "3177  3ea377e6-1156-457e-8b4e-71fa6663e6bf   \n",
      "\n",
      "                             TransactionID TransactionDate  Amount  \\\n",
      "0     5ff75116-0a50-4d04-80fb-31e5ccbb0769      2024-05-15  117.64   \n",
      "1     2c39b9fe-ff57-4d39-9321-9f5cdf187aa1      2023-04-26  466.14   \n",
      "2     f79588dd-3db9-4ffa-97f8-7de0e64259f1      2022-09-23  563.99   \n",
      "3     401c0fc9-60df-4455-ad78-67c132f9897d      2024-04-15  254.44   \n",
      "4     2034aebc-8280-4254-a667-92bcd1c2be4f      2024-06-03  590.52   \n",
      "...                                    ...             ...     ...   \n",
      "3153  652636b6-5c72-44e1-aefb-6adce412ee75      2023-12-05  974.25   \n",
      "3157  eb26a4f4-5af2-4e25-b1f2-fd0de5583f7b      10/08/2022   50.07   \n",
      "3164  7fbe5cc4-a35e-4e8e-89d7-7b439659b9f6      20/07/2022  272.68   \n",
      "3174  185ee140-348a-4461-bd40-07a7e8535815      2023-10-09       0   \n",
      "3177  c751a808-ed8d-44d0-8c52-8253ad564c9a      2023-09-22    -100   \n",
      "\n",
      "      ProductCategory  PaymentMethod  \n",
      "0            Clothing         PayPal  \n",
      "1     Health & Beauty  Bank Transfer  \n",
      "2            Clothing     Debit Card  \n",
      "3          Automotive         PayPal  \n",
      "4       Home & Garden  Bank Transfer  \n",
      "...               ...            ...  \n",
      "3153      Electronics     Debit Card  \n",
      "3157       Automotive  Bank Transfer  \n",
      "3164         Clothing     Debit Card  \n",
      "3174  Health & Beauty         PayPal  \n",
      "3177  Health & Beauty    Credit Card  \n",
      "\n",
      "[2476 rows x 6 columns]\n"
     ]
    }
   ],
   "source": [
    "print(\"\\nDataFrame after removing duplicates:\")\n",
    "print(df_cleaned)"
   ]
  },
  {
   "cell_type": "code",
   "execution_count": 97,
   "id": "6df21159-2f74-4114-99a0-71a5c1745fe1",
   "metadata": {},
   "outputs": [
    {
     "name": "stdout",
     "output_type": "stream",
     "text": [
      "Total number of duplicate rows: 0\n"
     ]
    }
   ],
   "source": [
    "duplicate_count = df.duplicated().sum()\n",
    "\n",
    "print(f'Total number of duplicate rows: {duplicate_count}')"
   ]
  },
  {
   "cell_type": "code",
   "execution_count": null,
   "id": "a1dcf75b-4514-48f0-92b6-3622a3da16bb",
   "metadata": {},
   "outputs": [],
   "source": []
  }
 ],
 "metadata": {
  "kernelspec": {
   "display_name": "Python 3 (ipykernel)",
   "language": "python",
   "name": "python3"
  },
  "language_info": {
   "codemirror_mode": {
    "name": "ipython",
    "version": 3
   },
   "file_extension": ".py",
   "mimetype": "text/x-python",
   "name": "python",
   "nbconvert_exporter": "python",
   "pygments_lexer": "ipython3",
   "version": "3.12.4"
  }
 },
 "nbformat": 4,
 "nbformat_minor": 5
}
