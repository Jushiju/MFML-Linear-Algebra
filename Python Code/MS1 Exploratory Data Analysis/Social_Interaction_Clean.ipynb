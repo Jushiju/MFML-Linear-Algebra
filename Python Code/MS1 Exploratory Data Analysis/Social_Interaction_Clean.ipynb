{
 "cells": [
  {
   "cell_type": "code",
   "execution_count": 1,
   "id": "97faba1a-fcc7-4782-89eb-a1f72857be6d",
   "metadata": {},
   "outputs": [],
   "source": [
    "import pandas as pd"
   ]
  },
  {
   "cell_type": "code",
   "execution_count": 3,
   "id": "097cb4e8-eaf2-4bdb-96d8-a676a0efe4a1",
   "metadata": {},
   "outputs": [],
   "source": [
    "df = pd.read_csv ('Downloads/social_media_interactions_contaminated.csv')"
   ]
  },
  {
   "cell_type": "code",
   "execution_count": 5,
   "id": "7ff98666-2bf5-4fba-9d31-a2c2026ebf67",
   "metadata": {},
   "outputs": [
    {
     "data": {
      "text/html": [
       "<div>\n",
       "<style scoped>\n",
       "    .dataframe tbody tr th:only-of-type {\n",
       "        vertical-align: middle;\n",
       "    }\n",
       "\n",
       "    .dataframe tbody tr th {\n",
       "        vertical-align: top;\n",
       "    }\n",
       "\n",
       "    .dataframe thead th {\n",
       "        text-align: right;\n",
       "    }\n",
       "</style>\n",
       "<table border=\"1\" class=\"dataframe\">\n",
       "  <thead>\n",
       "    <tr style=\"text-align: right;\">\n",
       "      <th></th>\n",
       "      <th>CustomerID</th>\n",
       "      <th>InteractionID</th>\n",
       "      <th>InteractionDate</th>\n",
       "      <th>Platform</th>\n",
       "      <th>InteractionType</th>\n",
       "      <th>Sentiment</th>\n",
       "    </tr>\n",
       "  </thead>\n",
       "  <tbody>\n",
       "    <tr>\n",
       "      <th>0</th>\n",
       "      <td>2dcb9523-356b-40b2-a67b-1f27797de261</td>\n",
       "      <td>e5d15761-d0a7-4329-89e3-79a892c56097</td>\n",
       "      <td>2023-07-11</td>\n",
       "      <td>NaN</td>\n",
       "      <td>Comment</td>\n",
       "      <td>NaN</td>\n",
       "    </tr>\n",
       "    <tr>\n",
       "      <th>1</th>\n",
       "      <td>e12c37b3-7d4d-472f-9fd8-0df2cb3001aa</td>\n",
       "      <td>02f9f376-70ae-4fcd-9070-1db977939948</td>\n",
       "      <td>2023-07-06</td>\n",
       "      <td>Twitter</td>\n",
       "      <td>Share</td>\n",
       "      <td>NaN</td>\n",
       "    </tr>\n",
       "    <tr>\n",
       "      <th>2</th>\n",
       "      <td>08a911a3-65e6-4f5d-a6a1-ae7ddcbe28a2</td>\n",
       "      <td>a83fa04c-f109-4f24-8ce1-2078154f6a1c</td>\n",
       "      <td>2024-05-24</td>\n",
       "      <td>Instagram</td>\n",
       "      <td>Comment</td>\n",
       "      <td>Neutral</td>\n",
       "    </tr>\n",
       "    <tr>\n",
       "      <th>3</th>\n",
       "      <td>efdfdfc9-5dbb-4478-911a-101a390a0285</td>\n",
       "      <td>28a69c4b-a2e4-4c74-a130-1132d7733fdf</td>\n",
       "      <td>2023-11-01</td>\n",
       "      <td>Instagram</td>\n",
       "      <td>Like</td>\n",
       "      <td>Neutral</td>\n",
       "    </tr>\n",
       "    <tr>\n",
       "      <th>4</th>\n",
       "      <td>ca1e90f6-0e5f-492e-ab92-252ff540da18</td>\n",
       "      <td>d9d1c6f8-5e15-4738-b52b-13c2982420cc</td>\n",
       "      <td>2023-07-08</td>\n",
       "      <td>Instagram</td>\n",
       "      <td>Like</td>\n",
       "      <td>NaN</td>\n",
       "    </tr>\n",
       "    <tr>\n",
       "      <th>...</th>\n",
       "      <td>...</td>\n",
       "      <td>...</td>\n",
       "      <td>...</td>\n",
       "      <td>...</td>\n",
       "      <td>...</td>\n",
       "      <td>...</td>\n",
       "    </tr>\n",
       "    <tr>\n",
       "      <th>3195</th>\n",
       "      <td>8d8fe8bd-2009-4a15-be37-83dba3cef447</td>\n",
       "      <td>2212803c-4a00-4263-bae5-aaaff6d6bdb1</td>\n",
       "      <td>2023-08-30</td>\n",
       "      <td>Instagram</td>\n",
       "      <td>Like</td>\n",
       "      <td>Neutral</td>\n",
       "    </tr>\n",
       "    <tr>\n",
       "      <th>3196</th>\n",
       "      <td>1756838b-8368-4852-b4a5-32a23643a3dd</td>\n",
       "      <td>2f50ca57-f930-4d3e-ae08-9f3b26c7f148</td>\n",
       "      <td>2024-06-16</td>\n",
       "      <td>Facebook</td>\n",
       "      <td>Like</td>\n",
       "      <td>Neutral</td>\n",
       "    </tr>\n",
       "    <tr>\n",
       "      <th>3197</th>\n",
       "      <td>eb8bb3ce-e182-4a9c-8084-c55c738815e1</td>\n",
       "      <td>ee2c3d14-248c-48b0-aa80-4ea97e449bf8</td>\n",
       "      <td>2023-12-22</td>\n",
       "      <td>Instagram</td>\n",
       "      <td>Comment</td>\n",
       "      <td>Negative</td>\n",
       "    </tr>\n",
       "    <tr>\n",
       "      <th>3198</th>\n",
       "      <td>a5d08a95-9dba-4e3d-b997-1cfdde6a89ef</td>\n",
       "      <td>e77a8713-fdc7-4f71-85f8-9cd88cca0c42</td>\n",
       "      <td>2023-11-01</td>\n",
       "      <td>Twitter</td>\n",
       "      <td>Share</td>\n",
       "      <td>Positive</td>\n",
       "    </tr>\n",
       "    <tr>\n",
       "      <th>3199</th>\n",
       "      <td>f8146100-569d-4cda-9d64-88c6ad98de5f</td>\n",
       "      <td>454a0b90-d1bb-437d-ad50-ef01821fbf0a</td>\n",
       "      <td>2024-06-20</td>\n",
       "      <td>Instagram</td>\n",
       "      <td>Like</td>\n",
       "      <td>Neutral</td>\n",
       "    </tr>\n",
       "  </tbody>\n",
       "</table>\n",
       "<p>3200 rows × 6 columns</p>\n",
       "</div>"
      ],
      "text/plain": [
       "                                CustomerID  \\\n",
       "0     2dcb9523-356b-40b2-a67b-1f27797de261   \n",
       "1     e12c37b3-7d4d-472f-9fd8-0df2cb3001aa   \n",
       "2     08a911a3-65e6-4f5d-a6a1-ae7ddcbe28a2   \n",
       "3     efdfdfc9-5dbb-4478-911a-101a390a0285   \n",
       "4     ca1e90f6-0e5f-492e-ab92-252ff540da18   \n",
       "...                                    ...   \n",
       "3195  8d8fe8bd-2009-4a15-be37-83dba3cef447   \n",
       "3196  1756838b-8368-4852-b4a5-32a23643a3dd   \n",
       "3197  eb8bb3ce-e182-4a9c-8084-c55c738815e1   \n",
       "3198  a5d08a95-9dba-4e3d-b997-1cfdde6a89ef   \n",
       "3199  f8146100-569d-4cda-9d64-88c6ad98de5f   \n",
       "\n",
       "                             InteractionID InteractionDate   Platform  \\\n",
       "0     e5d15761-d0a7-4329-89e3-79a892c56097      2023-07-11        NaN   \n",
       "1     02f9f376-70ae-4fcd-9070-1db977939948      2023-07-06    Twitter   \n",
       "2     a83fa04c-f109-4f24-8ce1-2078154f6a1c      2024-05-24  Instagram   \n",
       "3     28a69c4b-a2e4-4c74-a130-1132d7733fdf      2023-11-01  Instagram   \n",
       "4     d9d1c6f8-5e15-4738-b52b-13c2982420cc      2023-07-08  Instagram   \n",
       "...                                    ...             ...        ...   \n",
       "3195  2212803c-4a00-4263-bae5-aaaff6d6bdb1      2023-08-30  Instagram   \n",
       "3196  2f50ca57-f930-4d3e-ae08-9f3b26c7f148      2024-06-16   Facebook   \n",
       "3197  ee2c3d14-248c-48b0-aa80-4ea97e449bf8      2023-12-22  Instagram   \n",
       "3198  e77a8713-fdc7-4f71-85f8-9cd88cca0c42      2023-11-01    Twitter   \n",
       "3199  454a0b90-d1bb-437d-ad50-ef01821fbf0a      2024-06-20  Instagram   \n",
       "\n",
       "     InteractionType Sentiment  \n",
       "0            Comment       NaN  \n",
       "1              Share       NaN  \n",
       "2            Comment   Neutral  \n",
       "3               Like   Neutral  \n",
       "4               Like       NaN  \n",
       "...              ...       ...  \n",
       "3195            Like   Neutral  \n",
       "3196            Like   Neutral  \n",
       "3197         Comment  Negative  \n",
       "3198           Share  Positive  \n",
       "3199            Like   Neutral  \n",
       "\n",
       "[3200 rows x 6 columns]"
      ]
     },
     "execution_count": 5,
     "metadata": {},
     "output_type": "execute_result"
    }
   ],
   "source": [
    "df"
   ]
  },
  {
   "cell_type": "code",
   "execution_count": 7,
   "id": "5b820737-c434-4756-a84c-aca108921907",
   "metadata": {},
   "outputs": [
    {
     "name": "stdout",
     "output_type": "stream",
     "text": [
      "Total missing values in the dataset: 640\n"
     ]
    }
   ],
   "source": [
    "total_missing = df.isnull().sum().sum()\n",
    "print(f'Total missing values in the dataset: {total_missing}')"
   ]
  },
  {
   "cell_type": "code",
   "execution_count": 9,
   "id": "1149d7cc-d0bc-4660-9a9d-2543cedcdbee",
   "metadata": {},
   "outputs": [
    {
     "name": "stdout",
     "output_type": "stream",
     "text": [
      "CustomerID           0\n",
      "InteractionID        0\n",
      "InteractionDate      0\n",
      "Platform           311\n",
      "InteractionType      0\n",
      "Sentiment          329\n",
      "dtype: int64\n"
     ]
    }
   ],
   "source": [
    "missing_values = df.isnull().sum()\n",
    "print(missing_values)"
   ]
  },
  {
   "cell_type": "code",
   "execution_count": 11,
   "id": "75054dac-6058-4cd8-8d5c-8797bb58683d",
   "metadata": {},
   "outputs": [],
   "source": [
    "df = df.dropna(subset=['Platform'])"
   ]
  },
  {
   "cell_type": "code",
   "execution_count": 13,
   "id": "39388955-bf75-4481-89c4-7d48c7bd9d15",
   "metadata": {},
   "outputs": [
    {
     "name": "stdout",
     "output_type": "stream",
     "text": [
      "CustomerID           0\n",
      "InteractionID        0\n",
      "InteractionDate      0\n",
      "Platform             0\n",
      "InteractionType      0\n",
      "Sentiment          301\n",
      "dtype: int64\n"
     ]
    }
   ],
   "source": [
    "missing_values = df.isnull().sum()\n",
    "print(missing_values)"
   ]
  },
  {
   "cell_type": "code",
   "execution_count": 15,
   "id": "cd7fda39-d310-43e1-b10a-90de34fcbfbf",
   "metadata": {},
   "outputs": [],
   "source": [
    "df = df.dropna(subset=['Sentiment'])"
   ]
  },
  {
   "cell_type": "code",
   "execution_count": 17,
   "id": "8eb49349-de14-4237-90a5-69d2eb09bb6d",
   "metadata": {},
   "outputs": [
    {
     "name": "stdout",
     "output_type": "stream",
     "text": [
      "CustomerID         0\n",
      "InteractionID      0\n",
      "InteractionDate    0\n",
      "Platform           0\n",
      "InteractionType    0\n",
      "Sentiment          0\n",
      "dtype: int64\n"
     ]
    }
   ],
   "source": [
    "missing_values = df.isnull().sum()\n",
    "print(missing_values)"
   ]
  },
  {
   "cell_type": "code",
   "execution_count": 19,
   "id": "27b4235b-81a5-473e-ab1f-815d8aada272",
   "metadata": {},
   "outputs": [],
   "source": [
    "df_cleaned = df.drop_duplicates()"
   ]
  },
  {
   "cell_type": "code",
   "execution_count": 21,
   "id": "bfc9eaec-425a-476e-8ea4-e1233bf77235",
   "metadata": {},
   "outputs": [
    {
     "name": "stdout",
     "output_type": "stream",
     "text": [
      "Total number of duplicate rows: 141\n"
     ]
    }
   ],
   "source": [
    "print(f'Total number of duplicate rows: {df.duplicated().sum()}')"
   ]
  },
  {
   "cell_type": "code",
   "execution_count": 23,
   "id": "de442984-2694-48fa-a296-a4669a9ce71b",
   "metadata": {},
   "outputs": [],
   "source": [
    "df_cleaned = df.drop_duplicates()"
   ]
  },
  {
   "cell_type": "code",
   "execution_count": 27,
   "id": "d6308d6a-2b9e-451f-bae3-e77787bf7d33",
   "metadata": {},
   "outputs": [],
   "source": [
    "df_no_duplicates = df.drop_duplicates()"
   ]
  },
  {
   "cell_type": "code",
   "execution_count": 29,
   "id": "70fa8be3-6849-45d9-ab4c-9612dde81d74",
   "metadata": {},
   "outputs": [
    {
     "name": "stdout",
     "output_type": "stream",
     "text": [
      "Total number of duplicate rows: 141\n"
     ]
    }
   ],
   "source": [
    "print(f'Total number of duplicate rows: {df.duplicated().sum()}')"
   ]
  },
  {
   "cell_type": "code",
   "execution_count": 31,
   "id": "88682a27-dd95-4401-bcbd-87868f62d4aa",
   "metadata": {},
   "outputs": [
    {
     "name": "stdout",
     "output_type": "stream",
     "text": [
      "\n",
      "DataFrame after removing duplicates:\n",
      "                                CustomerID  \\\n",
      "2     08a911a3-65e6-4f5d-a6a1-ae7ddcbe28a2   \n",
      "3     efdfdfc9-5dbb-4478-911a-101a390a0285   \n",
      "5     3e44871b-f56c-4576-b1ca-d1dc999e2166   \n",
      "6     aa5eea4b-c948-41f4-9285-229a470002aa   \n",
      "10    481bcc62-9dcb-4766-bbdd-79f5554d73f8   \n",
      "...                                    ...   \n",
      "3146  ce2ece8f-91c3-420a-9d80-8b1f5051dc77   \n",
      "3166  e06f0e16-8e48-483b-b103-9f105b139ca8   \n",
      "3173  b7b84b81-c61b-4f23-b3db-b18010484122   \n",
      "3175  5659a8c6-0397-4396-b561-52ec1c8a760b   \n",
      "3194  5711d1af-71f2-4b99-a965-3ffdc39d32c8   \n",
      "\n",
      "                             InteractionID InteractionDate   Platform  \\\n",
      "2     a83fa04c-f109-4f24-8ce1-2078154f6a1c      2024-05-24  Instagram   \n",
      "3     28a69c4b-a2e4-4c74-a130-1132d7733fdf      2023-11-01  Instagram   \n",
      "5     0c409883-8396-48e4-83fb-887329848696      2023-12-18  Instagram   \n",
      "6     4034dadf-6541-40d6-a7f0-16b20a009c04      2023-11-15  Instagram   \n",
      "10    785b7854-4548-4251-83f2-a25da78bfe40      2024-05-28    Twitter   \n",
      "...                                    ...             ...        ...   \n",
      "3146  3a30bab5-53a0-4169-8244-419e2459dcd9      17/06/2024  Instagram   \n",
      "3166  071a2657-12a8-4216-9c64-baf9ab5c9420      2024-04-30    Twitter   \n",
      "3173  93d2d3e1-841e-4ece-91c1-3b1998a4cab8      2023-12-16    Twitter   \n",
      "3175  d7f6806b-f348-431e-9198-07f0685d8d8e      2024-01-28   Facebook   \n",
      "3194  1c2f510a-5ab5-4575-8f62-8ba8decf1302      2024-06-29    Twitter   \n",
      "\n",
      "     InteractionType Sentiment  \n",
      "2            Comment   Neutral  \n",
      "3               Like   Neutral  \n",
      "5            Comment  Positive  \n",
      "6              Share  Positive  \n",
      "10              Like  Positive  \n",
      "...              ...       ...  \n",
      "3146           Share  Positive  \n",
      "3166           Share   Neutral  \n",
      "3173            Like   Neutral  \n",
      "3175           Share  Negative  \n",
      "3194           Share  Negative  \n",
      "\n",
      "[2447 rows x 6 columns]\n"
     ]
    }
   ],
   "source": [
    "print(\"\\nDataFrame after removing duplicates:\")\n",
    "print(df_cleaned)"
   ]
  },
  {
   "cell_type": "code",
   "execution_count": 33,
   "id": "783ff3d3-e364-4c1b-9b68-9eef8743e440",
   "metadata": {},
   "outputs": [
    {
     "name": "stdout",
     "output_type": "stream",
     "text": [
      "Total number of duplicate rows: 141\n"
     ]
    }
   ],
   "source": [
    "print(f'Total number of duplicate rows: {df.duplicated().sum()}')"
   ]
  },
  {
   "cell_type": "code",
   "execution_count": 35,
   "id": "41eb67b9-d7a8-43d9-a30b-b0108bdf33f0",
   "metadata": {},
   "outputs": [],
   "source": [
    "df_cleaned = df.drop_duplicates()"
   ]
  },
  {
   "cell_type": "code",
   "execution_count": 37,
   "id": "2467f738-4e4b-44ec-a5b5-2a7fbc9e8523",
   "metadata": {},
   "outputs": [
    {
     "name": "stdout",
     "output_type": "stream",
     "text": [
      "\n",
      "DataFrame after removing duplicates:\n",
      "                                CustomerID  \\\n",
      "2     08a911a3-65e6-4f5d-a6a1-ae7ddcbe28a2   \n",
      "3     efdfdfc9-5dbb-4478-911a-101a390a0285   \n",
      "5     3e44871b-f56c-4576-b1ca-d1dc999e2166   \n",
      "6     aa5eea4b-c948-41f4-9285-229a470002aa   \n",
      "10    481bcc62-9dcb-4766-bbdd-79f5554d73f8   \n",
      "...                                    ...   \n",
      "3146  ce2ece8f-91c3-420a-9d80-8b1f5051dc77   \n",
      "3166  e06f0e16-8e48-483b-b103-9f105b139ca8   \n",
      "3173  b7b84b81-c61b-4f23-b3db-b18010484122   \n",
      "3175  5659a8c6-0397-4396-b561-52ec1c8a760b   \n",
      "3194  5711d1af-71f2-4b99-a965-3ffdc39d32c8   \n",
      "\n",
      "                             InteractionID InteractionDate   Platform  \\\n",
      "2     a83fa04c-f109-4f24-8ce1-2078154f6a1c      2024-05-24  Instagram   \n",
      "3     28a69c4b-a2e4-4c74-a130-1132d7733fdf      2023-11-01  Instagram   \n",
      "5     0c409883-8396-48e4-83fb-887329848696      2023-12-18  Instagram   \n",
      "6     4034dadf-6541-40d6-a7f0-16b20a009c04      2023-11-15  Instagram   \n",
      "10    785b7854-4548-4251-83f2-a25da78bfe40      2024-05-28    Twitter   \n",
      "...                                    ...             ...        ...   \n",
      "3146  3a30bab5-53a0-4169-8244-419e2459dcd9      17/06/2024  Instagram   \n",
      "3166  071a2657-12a8-4216-9c64-baf9ab5c9420      2024-04-30    Twitter   \n",
      "3173  93d2d3e1-841e-4ece-91c1-3b1998a4cab8      2023-12-16    Twitter   \n",
      "3175  d7f6806b-f348-431e-9198-07f0685d8d8e      2024-01-28   Facebook   \n",
      "3194  1c2f510a-5ab5-4575-8f62-8ba8decf1302      2024-06-29    Twitter   \n",
      "\n",
      "     InteractionType Sentiment  \n",
      "2            Comment   Neutral  \n",
      "3               Like   Neutral  \n",
      "5            Comment  Positive  \n",
      "6              Share  Positive  \n",
      "10              Like  Positive  \n",
      "...              ...       ...  \n",
      "3146           Share  Positive  \n",
      "3166           Share   Neutral  \n",
      "3173            Like   Neutral  \n",
      "3175           Share  Negative  \n",
      "3194           Share  Negative  \n",
      "\n",
      "[2447 rows x 6 columns]\n"
     ]
    }
   ],
   "source": [
    "print(\"\\nDataFrame after removing duplicates:\")\n",
    "print(df_cleaned)"
   ]
  },
  {
   "cell_type": "code",
   "execution_count": 39,
   "id": "b9eb55a6-d55e-48db-974a-f96804263845",
   "metadata": {},
   "outputs": [
    {
     "name": "stdout",
     "output_type": "stream",
     "text": [
      "Total number of duplicate rows: 141\n"
     ]
    }
   ],
   "source": [
    "duplicate_count = df.duplicated().sum()\n",
    "\n",
    "print(f'Total number of duplicate rows: {duplicate_count}')"
   ]
  },
  {
   "cell_type": "code",
   "execution_count": 41,
   "id": "90fe8568-1236-4b69-8c81-66aa62bc1122",
   "metadata": {},
   "outputs": [],
   "source": [
    "df_cleaned = df.drop_duplicates(keep='last')"
   ]
  },
  {
   "cell_type": "code",
   "execution_count": 43,
   "id": "0cdf28a9-3877-435d-ad2c-8a4be7d6be88",
   "metadata": {},
   "outputs": [
    {
     "name": "stdout",
     "output_type": "stream",
     "text": [
      "Total number of duplicate rows: 141\n"
     ]
    }
   ],
   "source": [
    "print(f'Total number of duplicate rows: {duplicate_count}')"
   ]
  },
  {
   "cell_type": "code",
   "execution_count": 45,
   "id": "5374c1a2-94af-4358-9554-8368089ae3a8",
   "metadata": {},
   "outputs": [],
   "source": [
    "duplicate_count = df.duplicated().sum()"
   ]
  },
  {
   "cell_type": "code",
   "execution_count": 47,
   "id": "2506d35e-f114-448c-bf2b-b74eb7afc955",
   "metadata": {},
   "outputs": [],
   "source": [
    "df_cleaned = df.drop_duplicates()"
   ]
  },
  {
   "cell_type": "code",
   "execution_count": 49,
   "id": "74c4abdd-713a-4452-9fe7-f85c67f34ab2",
   "metadata": {},
   "outputs": [
    {
     "name": "stdout",
     "output_type": "stream",
     "text": [
      "\n",
      "DataFrame after removing duplicates:\n",
      "                                CustomerID  \\\n",
      "2     08a911a3-65e6-4f5d-a6a1-ae7ddcbe28a2   \n",
      "3     efdfdfc9-5dbb-4478-911a-101a390a0285   \n",
      "5     3e44871b-f56c-4576-b1ca-d1dc999e2166   \n",
      "6     aa5eea4b-c948-41f4-9285-229a470002aa   \n",
      "10    481bcc62-9dcb-4766-bbdd-79f5554d73f8   \n",
      "...                                    ...   \n",
      "3146  ce2ece8f-91c3-420a-9d80-8b1f5051dc77   \n",
      "3166  e06f0e16-8e48-483b-b103-9f105b139ca8   \n",
      "3173  b7b84b81-c61b-4f23-b3db-b18010484122   \n",
      "3175  5659a8c6-0397-4396-b561-52ec1c8a760b   \n",
      "3194  5711d1af-71f2-4b99-a965-3ffdc39d32c8   \n",
      "\n",
      "                             InteractionID InteractionDate   Platform  \\\n",
      "2     a83fa04c-f109-4f24-8ce1-2078154f6a1c      2024-05-24  Instagram   \n",
      "3     28a69c4b-a2e4-4c74-a130-1132d7733fdf      2023-11-01  Instagram   \n",
      "5     0c409883-8396-48e4-83fb-887329848696      2023-12-18  Instagram   \n",
      "6     4034dadf-6541-40d6-a7f0-16b20a009c04      2023-11-15  Instagram   \n",
      "10    785b7854-4548-4251-83f2-a25da78bfe40      2024-05-28    Twitter   \n",
      "...                                    ...             ...        ...   \n",
      "3146  3a30bab5-53a0-4169-8244-419e2459dcd9      17/06/2024  Instagram   \n",
      "3166  071a2657-12a8-4216-9c64-baf9ab5c9420      2024-04-30    Twitter   \n",
      "3173  93d2d3e1-841e-4ece-91c1-3b1998a4cab8      2023-12-16    Twitter   \n",
      "3175  d7f6806b-f348-431e-9198-07f0685d8d8e      2024-01-28   Facebook   \n",
      "3194  1c2f510a-5ab5-4575-8f62-8ba8decf1302      2024-06-29    Twitter   \n",
      "\n",
      "     InteractionType Sentiment  \n",
      "2            Comment   Neutral  \n",
      "3               Like   Neutral  \n",
      "5            Comment  Positive  \n",
      "6              Share  Positive  \n",
      "10              Like  Positive  \n",
      "...              ...       ...  \n",
      "3146           Share  Positive  \n",
      "3166           Share   Neutral  \n",
      "3173            Like   Neutral  \n",
      "3175           Share  Negative  \n",
      "3194           Share  Negative  \n",
      "\n",
      "[2447 rows x 6 columns]\n"
     ]
    }
   ],
   "source": [
    "print(\"\\nDataFrame after removing duplicates:\")\n",
    "print(df_cleaned)"
   ]
  },
  {
   "cell_type": "code",
   "execution_count": 51,
   "id": "c30a368f-90d6-48cb-9c06-121d3e9eb042",
   "metadata": {},
   "outputs": [
    {
     "name": "stdout",
     "output_type": "stream",
     "text": [
      "Total number of duplicate rows: 141\n"
     ]
    }
   ],
   "source": [
    "duplicate_count = df.duplicated().sum()\n",
    "\n",
    "print(f'Total number of duplicate rows: {duplicate_count}')"
   ]
  },
  {
   "cell_type": "code",
   "execution_count": 53,
   "id": "5016b4f8-eba1-47c8-93e8-13e1144c90a0",
   "metadata": {},
   "outputs": [
    {
     "name": "stdout",
     "output_type": "stream",
     "text": [
      "2       False\n",
      "3       False\n",
      "5       False\n",
      "6       False\n",
      "10      False\n",
      "        ...  \n",
      "3195     True\n",
      "3196     True\n",
      "3197     True\n",
      "3198     True\n",
      "3199     True\n",
      "Length: 2588, dtype: bool\n"
     ]
    }
   ],
   "source": [
    "print(df.duplicated())\n"
   ]
  },
  {
   "cell_type": "code",
   "execution_count": 55,
   "id": "a89d6a83-09d5-4a88-90f2-e2ef904a2792",
   "metadata": {},
   "outputs": [
    {
     "name": "stdout",
     "output_type": "stream",
     "text": [
      "                                CustomerID  \\\n",
      "2     08a911a3-65e6-4f5d-a6a1-ae7ddcbe28a2   \n",
      "3     efdfdfc9-5dbb-4478-911a-101a390a0285   \n",
      "5     3e44871b-f56c-4576-b1ca-d1dc999e2166   \n",
      "6     aa5eea4b-c948-41f4-9285-229a470002aa   \n",
      "10    481bcc62-9dcb-4766-bbdd-79f5554d73f8   \n",
      "...                                    ...   \n",
      "3146  ce2ece8f-91c3-420a-9d80-8b1f5051dc77   \n",
      "3166  e06f0e16-8e48-483b-b103-9f105b139ca8   \n",
      "3173  b7b84b81-c61b-4f23-b3db-b18010484122   \n",
      "3175  5659a8c6-0397-4396-b561-52ec1c8a760b   \n",
      "3194  5711d1af-71f2-4b99-a965-3ffdc39d32c8   \n",
      "\n",
      "                             InteractionID InteractionDate   Platform  \\\n",
      "2     a83fa04c-f109-4f24-8ce1-2078154f6a1c      2024-05-24  Instagram   \n",
      "3     28a69c4b-a2e4-4c74-a130-1132d7733fdf      2023-11-01  Instagram   \n",
      "5     0c409883-8396-48e4-83fb-887329848696      2023-12-18  Instagram   \n",
      "6     4034dadf-6541-40d6-a7f0-16b20a009c04      2023-11-15  Instagram   \n",
      "10    785b7854-4548-4251-83f2-a25da78bfe40      2024-05-28    Twitter   \n",
      "...                                    ...             ...        ...   \n",
      "3146  3a30bab5-53a0-4169-8244-419e2459dcd9      17/06/2024  Instagram   \n",
      "3166  071a2657-12a8-4216-9c64-baf9ab5c9420      2024-04-30    Twitter   \n",
      "3173  93d2d3e1-841e-4ece-91c1-3b1998a4cab8      2023-12-16    Twitter   \n",
      "3175  d7f6806b-f348-431e-9198-07f0685d8d8e      2024-01-28   Facebook   \n",
      "3194  1c2f510a-5ab5-4575-8f62-8ba8decf1302      2024-06-29    Twitter   \n",
      "\n",
      "     InteractionType Sentiment  \n",
      "2            Comment   Neutral  \n",
      "3               Like   Neutral  \n",
      "5            Comment  Positive  \n",
      "6              Share  Positive  \n",
      "10              Like  Positive  \n",
      "...              ...       ...  \n",
      "3146           Share  Positive  \n",
      "3166           Share   Neutral  \n",
      "3173            Like   Neutral  \n",
      "3175           Share  Negative  \n",
      "3194           Share  Negative  \n",
      "\n",
      "[2447 rows x 6 columns]\n"
     ]
    }
   ],
   "source": [
    "df_cleaned = df.drop_duplicates()\n",
    "print(df_cleaned)"
   ]
  },
  {
   "cell_type": "code",
   "execution_count": 57,
   "id": "8ae6f917-e318-4f09-8717-7b71fdd8894b",
   "metadata": {},
   "outputs": [
    {
     "name": "stdout",
     "output_type": "stream",
     "text": [
      "                                CustomerID  \\\n",
      "2     08a911a3-65e6-4f5d-a6a1-ae7ddcbe28a2   \n",
      "3     efdfdfc9-5dbb-4478-911a-101a390a0285   \n",
      "5     3e44871b-f56c-4576-b1ca-d1dc999e2166   \n",
      "6     aa5eea4b-c948-41f4-9285-229a470002aa   \n",
      "10    481bcc62-9dcb-4766-bbdd-79f5554d73f8   \n",
      "...                                    ...   \n",
      "3146  ce2ece8f-91c3-420a-9d80-8b1f5051dc77   \n",
      "3166  e06f0e16-8e48-483b-b103-9f105b139ca8   \n",
      "3173  b7b84b81-c61b-4f23-b3db-b18010484122   \n",
      "3175  5659a8c6-0397-4396-b561-52ec1c8a760b   \n",
      "3194  5711d1af-71f2-4b99-a965-3ffdc39d32c8   \n",
      "\n",
      "                             InteractionID InteractionDate   Platform  \\\n",
      "2     a83fa04c-f109-4f24-8ce1-2078154f6a1c      2024-05-24  Instagram   \n",
      "3     28a69c4b-a2e4-4c74-a130-1132d7733fdf      2023-11-01  Instagram   \n",
      "5     0c409883-8396-48e4-83fb-887329848696      2023-12-18  Instagram   \n",
      "6     4034dadf-6541-40d6-a7f0-16b20a009c04      2023-11-15  Instagram   \n",
      "10    785b7854-4548-4251-83f2-a25da78bfe40      2024-05-28    Twitter   \n",
      "...                                    ...             ...        ...   \n",
      "3146  3a30bab5-53a0-4169-8244-419e2459dcd9      17/06/2024  Instagram   \n",
      "3166  071a2657-12a8-4216-9c64-baf9ab5c9420      2024-04-30    Twitter   \n",
      "3173  93d2d3e1-841e-4ece-91c1-3b1998a4cab8      2023-12-16    Twitter   \n",
      "3175  d7f6806b-f348-431e-9198-07f0685d8d8e      2024-01-28   Facebook   \n",
      "3194  1c2f510a-5ab5-4575-8f62-8ba8decf1302      2024-06-29    Twitter   \n",
      "\n",
      "     InteractionType Sentiment  \n",
      "2            Comment   Neutral  \n",
      "3               Like   Neutral  \n",
      "5            Comment  Positive  \n",
      "6              Share  Positive  \n",
      "10              Like  Positive  \n",
      "...              ...       ...  \n",
      "3146           Share  Positive  \n",
      "3166           Share   Neutral  \n",
      "3173            Like   Neutral  \n",
      "3175           Share  Negative  \n",
      "3194           Share  Negative  \n",
      "\n",
      "[2447 rows x 6 columns]\n"
     ]
    }
   ],
   "source": [
    "df.drop_duplicates(inplace=True)\n",
    "print(df)"
   ]
  },
  {
   "cell_type": "code",
   "execution_count": 59,
   "id": "73423d69-e906-4208-8658-307003b5a80a",
   "metadata": {},
   "outputs": [
    {
     "name": "stdout",
     "output_type": "stream",
     "text": [
      "Empty DataFrame\n",
      "Columns: [CustomerID, InteractionID, InteractionDate, Platform, InteractionType, Sentiment]\n",
      "Index: []\n"
     ]
    }
   ],
   "source": [
    "print(df[df.duplicated(keep=False)]) "
   ]
  },
  {
   "cell_type": "code",
   "execution_count": 61,
   "id": "6a7d3435-dddf-4939-b301-f061d5843f23",
   "metadata": {},
   "outputs": [
    {
     "name": "stdout",
     "output_type": "stream",
     "text": [
      "                                CustomerID  \\\n",
      "0     08a911a3-65e6-4f5d-a6a1-ae7ddcbe28a2   \n",
      "1     efdfdfc9-5dbb-4478-911a-101a390a0285   \n",
      "2     3e44871b-f56c-4576-b1ca-d1dc999e2166   \n",
      "3     aa5eea4b-c948-41f4-9285-229a470002aa   \n",
      "4     481bcc62-9dcb-4766-bbdd-79f5554d73f8   \n",
      "...                                    ...   \n",
      "2442  ce2ece8f-91c3-420a-9d80-8b1f5051dc77   \n",
      "2443  e06f0e16-8e48-483b-b103-9f105b139ca8   \n",
      "2444  b7b84b81-c61b-4f23-b3db-b18010484122   \n",
      "2445  5659a8c6-0397-4396-b561-52ec1c8a760b   \n",
      "2446  5711d1af-71f2-4b99-a965-3ffdc39d32c8   \n",
      "\n",
      "                             InteractionID InteractionDate   Platform  \\\n",
      "0     a83fa04c-f109-4f24-8ce1-2078154f6a1c      2024-05-24  Instagram   \n",
      "1     28a69c4b-a2e4-4c74-a130-1132d7733fdf      2023-11-01  Instagram   \n",
      "2     0c409883-8396-48e4-83fb-887329848696      2023-12-18  Instagram   \n",
      "3     4034dadf-6541-40d6-a7f0-16b20a009c04      2023-11-15  Instagram   \n",
      "4     785b7854-4548-4251-83f2-a25da78bfe40      2024-05-28    Twitter   \n",
      "...                                    ...             ...        ...   \n",
      "2442  3a30bab5-53a0-4169-8244-419e2459dcd9      17/06/2024  Instagram   \n",
      "2443  071a2657-12a8-4216-9c64-baf9ab5c9420      2024-04-30    Twitter   \n",
      "2444  93d2d3e1-841e-4ece-91c1-3b1998a4cab8      2023-12-16    Twitter   \n",
      "2445  d7f6806b-f348-431e-9198-07f0685d8d8e      2024-01-28   Facebook   \n",
      "2446  1c2f510a-5ab5-4575-8f62-8ba8decf1302      2024-06-29    Twitter   \n",
      "\n",
      "     InteractionType Sentiment  \n",
      "0            Comment   Neutral  \n",
      "1               Like   Neutral  \n",
      "2            Comment  Positive  \n",
      "3              Share  Positive  \n",
      "4               Like  Positive  \n",
      "...              ...       ...  \n",
      "2442           Share  Positive  \n",
      "2443           Share   Neutral  \n",
      "2444            Like   Neutral  \n",
      "2445           Share  Negative  \n",
      "2446           Share  Negative  \n",
      "\n",
      "[2447 rows x 6 columns]\n"
     ]
    }
   ],
   "source": [
    "df_cleaned = df_cleaned.reset_index(drop=True)\n",
    "print(df_cleaned)"
   ]
  },
  {
   "cell_type": "code",
   "execution_count": 63,
   "id": "41ebd158-53c4-464d-8949-7ef41cf56979",
   "metadata": {},
   "outputs": [
    {
     "name": "stdout",
     "output_type": "stream",
     "text": [
      "\n",
      "Duplicates:\n"
     ]
    }
   ],
   "source": [
    "duplicates = df.duplicated(keep=False)\n",
    "print(\"\\nDuplicates:\")\n"
   ]
  },
  {
   "cell_type": "code",
   "execution_count": 65,
   "id": "11bb1a37-acac-473f-8e10-dbfedab6549e",
   "metadata": {},
   "outputs": [
    {
     "name": "stdout",
     "output_type": "stream",
     "text": [
      "Total number of duplicate rows: 141\n"
     ]
    }
   ],
   "source": [
    "print(f'Total number of duplicate rows: {duplicate_count}')"
   ]
  },
  {
   "cell_type": "code",
   "execution_count": 67,
   "id": "79302895-fffe-4afd-9ab8-960e01731018",
   "metadata": {},
   "outputs": [
    {
     "name": "stdout",
     "output_type": "stream",
     "text": [
      "Duplicate Rows:\n",
      "Empty DataFrame\n",
      "Columns: [CustomerID, InteractionID, InteractionDate, Platform, InteractionType, Sentiment]\n",
      "Index: []\n"
     ]
    }
   ],
   "source": [
    "duplicate_rows = df[df.duplicated(keep=False)]\n",
    "print(\"Duplicate Rows:\")\n",
    "print(duplicate_rows)"
   ]
  },
  {
   "cell_type": "code",
   "execution_count": 69,
   "id": "c4b67deb-c765-42d4-bdfe-b3ed90318b3f",
   "metadata": {},
   "outputs": [],
   "source": [
    "df.drop_duplicates(inplace=True)"
   ]
  },
  {
   "cell_type": "code",
   "execution_count": 71,
   "id": "b0578653-1acd-4fe4-a67c-b7095d8cc49c",
   "metadata": {},
   "outputs": [
    {
     "name": "stdout",
     "output_type": "stream",
     "text": [
      "Total number of duplicate rows after cleaning: 0\n"
     ]
    }
   ],
   "source": [
    "duplicate_count_after = df_cleaned.duplicated().sum()\n",
    "print(f'Total number of duplicate rows after cleaning: {duplicate_count_after}')"
   ]
  },
  {
   "cell_type": "code",
   "execution_count": 73,
   "id": "767fb92e-a6c5-4fa5-84ec-24fa3049f6ed",
   "metadata": {},
   "outputs": [],
   "source": [
    "df_cleaned.reset_index(drop=True, inplace=True)"
   ]
  },
  {
   "cell_type": "code",
   "execution_count": 75,
   "id": "44f97340-d0d7-45d6-a10e-cb3b40014e35",
   "metadata": {},
   "outputs": [
    {
     "name": "stdout",
     "output_type": "stream",
     "text": [
      "Cleaned DataFrame:\n",
      "                                CustomerID  \\\n",
      "0     08a911a3-65e6-4f5d-a6a1-ae7ddcbe28a2   \n",
      "1     efdfdfc9-5dbb-4478-911a-101a390a0285   \n",
      "2     3e44871b-f56c-4576-b1ca-d1dc999e2166   \n",
      "3     aa5eea4b-c948-41f4-9285-229a470002aa   \n",
      "4     481bcc62-9dcb-4766-bbdd-79f5554d73f8   \n",
      "...                                    ...   \n",
      "2442  ce2ece8f-91c3-420a-9d80-8b1f5051dc77   \n",
      "2443  e06f0e16-8e48-483b-b103-9f105b139ca8   \n",
      "2444  b7b84b81-c61b-4f23-b3db-b18010484122   \n",
      "2445  5659a8c6-0397-4396-b561-52ec1c8a760b   \n",
      "2446  5711d1af-71f2-4b99-a965-3ffdc39d32c8   \n",
      "\n",
      "                             InteractionID InteractionDate   Platform  \\\n",
      "0     a83fa04c-f109-4f24-8ce1-2078154f6a1c      2024-05-24  Instagram   \n",
      "1     28a69c4b-a2e4-4c74-a130-1132d7733fdf      2023-11-01  Instagram   \n",
      "2     0c409883-8396-48e4-83fb-887329848696      2023-12-18  Instagram   \n",
      "3     4034dadf-6541-40d6-a7f0-16b20a009c04      2023-11-15  Instagram   \n",
      "4     785b7854-4548-4251-83f2-a25da78bfe40      2024-05-28    Twitter   \n",
      "...                                    ...             ...        ...   \n",
      "2442  3a30bab5-53a0-4169-8244-419e2459dcd9      17/06/2024  Instagram   \n",
      "2443  071a2657-12a8-4216-9c64-baf9ab5c9420      2024-04-30    Twitter   \n",
      "2444  93d2d3e1-841e-4ece-91c1-3b1998a4cab8      2023-12-16    Twitter   \n",
      "2445  d7f6806b-f348-431e-9198-07f0685d8d8e      2024-01-28   Facebook   \n",
      "2446  1c2f510a-5ab5-4575-8f62-8ba8decf1302      2024-06-29    Twitter   \n",
      "\n",
      "     InteractionType Sentiment  \n",
      "0            Comment   Neutral  \n",
      "1               Like   Neutral  \n",
      "2            Comment  Positive  \n",
      "3              Share  Positive  \n",
      "4               Like  Positive  \n",
      "...              ...       ...  \n",
      "2442           Share  Positive  \n",
      "2443           Share   Neutral  \n",
      "2444            Like   Neutral  \n",
      "2445           Share  Negative  \n",
      "2446           Share  Negative  \n",
      "\n",
      "[2447 rows x 6 columns]\n"
     ]
    }
   ],
   "source": [
    "print(\"Cleaned DataFrame:\")\n",
    "print(df_cleaned)"
   ]
  },
  {
   "cell_type": "code",
   "execution_count": 83,
   "id": "295f47ec-a9ae-49d5-88a1-71dcf1d29510",
   "metadata": {},
   "outputs": [],
   "source": [
    "df_cleaned.to_csv('cleaned_Social_Interaction_data.csv', index=False)"
   ]
  },
  {
   "cell_type": "code",
   "execution_count": null,
   "id": "4263ff6f-509b-4de8-a0cd-444ba3fa2945",
   "metadata": {},
   "outputs": [],
   "source": []
  }
 ],
 "metadata": {
  "kernelspec": {
   "display_name": "Python 3 (ipykernel)",
   "language": "python",
   "name": "python3"
  },
  "language_info": {
   "codemirror_mode": {
    "name": "ipython",
    "version": 3
   },
   "file_extension": ".py",
   "mimetype": "text/x-python",
   "name": "python",
   "nbconvert_exporter": "python",
   "pygments_lexer": "ipython3",
   "version": "3.12.4"
  }
 },
 "nbformat": 4,
 "nbformat_minor": 5
}
